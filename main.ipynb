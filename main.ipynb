{
 "cells": [
  {
   "cell_type": "markdown",
   "id": "1be66f97",
   "metadata": {},
   "source": [
    "Import Libs"
   ]
  },
  {
   "cell_type": "code",
   "execution_count": 1,
   "id": "07c0ede9",
   "metadata": {
    "ExecuteTime": {
     "end_time": "2025-10-31T11:25:08.283170Z",
     "start_time": "2025-10-31T11:25:08.276093Z"
    }
   },
   "outputs": [
    {
     "name": "stderr",
     "output_type": "stream",
     "text": [
      "d:\\ownCloud\\Dokumente\\Ironhack\\.venv\\Lib\\site-packages\\tqdm\\auto.py:21: TqdmWarning: IProgress not found. Please update jupyter and ipywidgets. See https://ipywidgets.readthedocs.io/en/stable/user_install.html\n",
      "  from .autonotebook import tqdm as notebook_tqdm\n"
     ]
    },
    {
     "name": "stdout",
     "output_type": "stream",
     "text": [
      "WARNING:tensorflow:From d:\\ownCloud\\Dokumente\\Ironhack\\.venv\\Lib\\site-packages\\tf_keras\\src\\losses.py:2976: The name tf.losses.sparse_softmax_cross_entropy is deprecated. Please use tf.compat.v1.losses.sparse_softmax_cross_entropy instead.\n",
      "\n"
     ]
    }
   ],
   "source": [
    "import pandas as pd\n",
    "from sklearn.model_selection import train_test_split\n",
    "from sklearn.feature_extraction.text import TfidfVectorizer\n",
    "from sentence_transformers import SentenceTransformer\n",
    "\n",
    "# own packages\n",
    "from preprocess_data import clean_text\n",
    "from preprocess_data import lemmatize_text\n",
    "from models import model_sfnn_train\n",
    "from models import model_rf_train, model_naives_bayes, model_logistic_regression, predict_values, model_xgboost\n",
    "\n"
   ]
  },
  {
   "cell_type": "markdown",
   "id": "d1430f34",
   "metadata": {},
   "source": [
    "## Importing and reading the data"
   ]
  },
  {
   "cell_type": "code",
   "execution_count": 3,
   "id": "cecb90c6",
   "metadata": {
    "ExecuteTime": {
     "end_time": "2025-10-31T11:25:09.669245Z",
     "start_time": "2025-10-31T11:25:09.664335Z"
    }
   },
   "outputs": [],
   "source": [
    "# get csv data\n",
    "def read_Data(path):\n",
    "\n",
    "    \"\"\"\n",
    "    Read a tab-delimited text file and return a cleaned DataFrame with labels and text.\n",
    "\n",
    "    This function reads a CSV/TSV file without headers, assigns column names\n",
    "    ['label', 'text'], removes potential byte-order marks (BOM) from column names\n",
    "    and label values, and ensures that the 'label' column is of integer type.\n",
    "\n",
    "    Parameters\n",
    "    ----------\n",
    "    path : str\n",
    "        Path to the tab-delimited text file to read.\n",
    "\n",
    "    Returns\n",
    "    -------\n",
    "    df : pandas.DataFrame\n",
    "        A DataFrame with two columns:\n",
    "        - 'label' : int, the class label for each text sample\n",
    "        - 'text' : str, the text data\n",
    "\n",
    "    \"\"\"\n",
    "    # Define column names\n",
    "    column_names = ['label', 'text']\n",
    "\n",
    "    df = pd.read_csv(path, delimiter='\\t', encoding=\"utf-8-sig\", header=None, names=column_names)\n",
    "    df.columns = df.columns.str.replace('\\ufeff', '')\n",
    "    df['label'] = df['label'].astype(str).str.replace('\\ufeff', '')\n",
    "    df['label'] = df['label'].astype(int)\n",
    "    \n",
    "    return df\n",
    "\n"
   ]
  },
  {
   "cell_type": "code",
   "execution_count": 4,
   "id": "a1cacf3f",
   "metadata": {
    "ExecuteTime": {
     "end_time": "2025-10-31T11:25:10.448311Z",
     "start_time": "2025-10-31T11:25:10.231097Z"
    }
   },
   "outputs": [],
   "source": [
    "## read data windows\n",
    "#data_train_val = read_Data(r\".\\data\\training_data_lowercase.csv\")           # used for train and val data\n",
    "#data_test = read_Data(r\".\\data\\testing_data_lowercase_nolabels.csv\")        # data for the predictions\n",
    "\n",
    "## read data Mac\n",
    "data_train_val = read_Data(\"data/training_data_lowercase.csv\")           # used for train and val data\n",
    "data_test = read_Data(\"data/testing_data_lowercase_nolabels.csv\")        # data for the predictions\n",
    "\n",
    "\n",
    "## split data_train into train and val data\n",
    "data_train, data_val = train_test_split(data_train_val, test_size=0.08, random_state=42, stratify=data_train_val['label'])\n"
   ]
  },
  {
   "cell_type": "code",
   "execution_count": 5,
   "id": "a8aa1623a063d39e",
   "metadata": {},
   "outputs": [
    {
     "name": "stdout",
     "output_type": "stream",
     "text": [
      "Shape train data:\n",
      " (34152, 2)\n",
      "Shape test data:\n",
      " (9984, 2)\n"
     ]
    }
   ],
   "source": [
    "## preview data\n",
    "#print(data_train.head, \"\\n\")\n",
    "#print(data_test.head, \"\\n\")\n",
    "print(\"Shape train data:\\n\", data_train_val.shape)\n",
    "print(\"Shape test data:\\n\", data_test.shape)\n"
   ]
  },
  {
   "cell_type": "markdown",
   "id": "7e5044817001196e",
   "metadata": {},
   "source": [
    "## Pre-processing data"
   ]
  },
  {
   "cell_type": "markdown",
   "id": "f50fcf737f5439ca",
   "metadata": {},
   "source": [
    "Setup with advanced data cleaning"
   ]
  },
  {
   "cell_type": "code",
   "execution_count": 6,
   "id": "9317fe85",
   "metadata": {
    "ExecuteTime": {
     "end_time": "2025-10-31T11:25:15.726189Z",
     "start_time": "2025-10-31T11:25:12.568659Z"
    }
   },
   "outputs": [],
   "source": [
    "# Preprocessing steps\n",
    "\n",
    "# clean data\n",
    "data_train['cleaned_text'] = data_train['text'].apply(clean_text)\n",
    "data_val['cleaned_text'] = data_val['text'].apply(clean_text)\n",
    "data_test['cleaned_text'] = data_test['text'].apply(clean_text)\n",
    "\n",
    "#print(\"Cleand text train: \\n\", data_train[\"cleaned_text\"].head, \"\\n\")\n",
    "#print(\"Cleand text test: \\n\", data_test[\"cleaned_text\"].head, \"\\n\")\n",
    "\n",
    "\n",
    "## lemmatize data\n",
    "data_train['lemmatized_text'] = data_train['cleaned_text'].apply(lemmatize_text)\n",
    "data_val['lemmatized_text'] = data_val['cleaned_text'].apply(lemmatize_text)\n",
    "data_test['lemmatized_text'] = data_test['cleaned_text'].apply(lemmatize_text)\n",
    "\n",
    "#print(\"lemmatized_text train: \\n\", data_train['lemmatized_text'].head, \"\\n\")\n",
    "#print(\"lemmatized_text test: \\n\", data_test['lemmatized_text'].head, \"\\n\")\n",
    "\n",
    "# calc tf-idf matrix on lemmatized data\n",
    "vectorizer = TfidfVectorizer(ngram_range=(1,2))\n",
    "\n",
    "tfidf_matrix_train = vectorizer.fit_transform(data_train['lemmatized_text'])\n",
    "tfidf_matrix_val = vectorizer.transform(data_val['lemmatized_text'])\n",
    "tfidf_matrix_test = vectorizer.transform(data_test['lemmatized_text'])\n"
   ]
  },
  {
   "cell_type": "markdown",
   "id": "d84cbb745f6ba68b",
   "metadata": {},
   "source": [
    "**TF-IDF only**\n",
    "\n",
    "With and without stop-words function"
   ]
  },
  {
   "cell_type": "markdown",
   "id": "21dc59f7c3743c6a",
   "metadata": {},
   "source": [
    "Pre-processing setup 2: TF-IDF Vectorizer (without stopwords argument)"
   ]
  },
  {
   "cell_type": "code",
   "execution_count": 7,
   "id": "3761054c17a3691f",
   "metadata": {
    "ExecuteTime": {
     "end_time": "2025-10-31T11:25:25.820624Z",
     "start_time": "2025-10-31T11:25:24.671103Z"
    }
   },
   "outputs": [],
   "source": [
    "# calc tf-idf matrix with uncleaned data\n",
    "vectorizer2 = TfidfVectorizer(ngram_range=(1, 3))\n",
    "X_train_tfidf = vectorizer2.fit_transform(data_train['text'])\n",
    "X_val_tfidf = vectorizer2.transform(data_val['text'])\n",
    "X_test_tfidf = vectorizer2.transform(data_test['text'])\n"
   ]
  },
  {
   "cell_type": "markdown",
   "id": "594dcfc9749b418",
   "metadata": {},
   "source": [
    "Pre-processing setup 3: TF-IDF Vectorizer (without stopwords argument)"
   ]
  },
  {
   "cell_type": "code",
   "execution_count": 8,
   "id": "c9ad12fa21dc722b",
   "metadata": {},
   "outputs": [],
   "source": [
    "\n",
    "# calc tf-idf matrix with uncleaned data, tf-idf removing stopwords\n",
    "vectorizer3 = TfidfVectorizer(stop_words=\"english\", ngram_range=(1, 3))\n",
    "X_train_tfidf3 = vectorizer3.fit_transform(data_train['text'])\n",
    "X_val_tfidf3 = vectorizer3.transform(data_val['text'])\n",
    "X_test_tfidf3 = vectorizer3.transform(data_test['text'])"
   ]
  },
  {
   "cell_type": "markdown",
   "id": "a422c921",
   "metadata": {},
   "source": [
    "Pre-processing setup 4: Embeddings"
   ]
  },
  {
   "cell_type": "code",
   "execution_count": 9,
   "id": "0e8c280c",
   "metadata": {},
   "outputs": [
    {
     "name": "stderr",
     "output_type": "stream",
     "text": [
      "Batches: 100%|██████████| 982/982 [00:52<00:00, 18.55it/s]\n",
      "Batches: 100%|██████████| 86/86 [00:03<00:00, 22.28it/s]\n",
      "Batches: 100%|██████████| 312/312 [00:17<00:00, 17.52it/s]\n"
     ]
    }
   ],
   "source": [
    "# Load pretrained embedding model\n",
    "embedder = SentenceTransformer(\"all-MiniLM-L6-v2\")\n",
    "\n",
    "# Convert text to embeddings\n",
    "X_train_emb = embedder.encode(data_train['text'].tolist(), show_progress_bar=True)\n",
    "X_val_emb = embedder.encode(data_val['text'].tolist(), show_progress_bar=True)\n",
    "X_test_emb = embedder.encode(data_test['text'].tolist(), show_progress_bar=True)"
   ]
  },
  {
   "cell_type": "markdown",
   "id": "41b70313b6fdb1e",
   "metadata": {},
   "source": [
    "## Applying and evaluating models"
   ]
  },
  {
   "cell_type": "markdown",
   "id": "b43ba8b6c93a60ca",
   "metadata": {},
   "source": [
    "### Naive Bayes Model"
   ]
  },
  {
   "cell_type": "code",
   "execution_count": 9,
   "id": "4cd044eb",
   "metadata": {
    "ExecuteTime": {
     "end_time": "2025-10-31T09:41:36.171890Z",
     "start_time": "2025-10-31T09:41:35.962057Z"
    }
   },
   "outputs": [
    {
     "name": "stdout",
     "output_type": "stream",
     "text": [
      "Train Accuracy:1.00\n",
      "\n",
      "Validation Accuracy: 0.94\n",
      "\n",
      "classification_report:\n",
      "               precision    recall  f1-score   support\n",
      "\n",
      "           0     0.9390    0.9531    0.9460      1406\n",
      "           1     0.9495    0.9344    0.9419      1327\n",
      "\n",
      "    accuracy                         0.9440      2733\n",
      "   macro avg     0.9442    0.9437    0.9439      2733\n",
      "weighted avg     0.9441    0.9440    0.9440      2733\n",
      "\n"
     ]
    }
   ],
   "source": [
    "# Preprocessing setup 1: calc tf-idf on lemmatized data\n",
    "model_nb1 = model_naives_bayes(tfidf_matrix_train, data_train['label'], tfidf_matrix_val, data_val['label'])\n"
   ]
  },
  {
   "cell_type": "code",
   "execution_count": 10,
   "id": "219d6c9042444fa7",
   "metadata": {
    "ExecuteTime": {
     "end_time": "2025-10-31T09:41:42.003521Z",
     "start_time": "2025-10-31T09:41:41.626Z"
    }
   },
   "outputs": [
    {
     "name": "stdout",
     "output_type": "stream",
     "text": [
      "Train Accuracy:1.00\n",
      "\n",
      "Validation Accuracy: 0.95\n",
      "\n",
      "classification_report:\n",
      "               precision    recall  f1-score   support\n",
      "\n",
      "           0     0.9383    0.9623    0.9501      1406\n",
      "           1     0.9589    0.9329    0.9458      1327\n",
      "\n",
      "    accuracy                         0.9480      2733\n",
      "   macro avg     0.9486    0.9476    0.9480      2733\n",
      "weighted avg     0.9483    0.9480    0.9480      2733\n",
      "\n"
     ]
    }
   ],
   "source": [
    "# Preprocessing setup 2: tf-idf only\n",
    "model_nb2 = model_naives_bayes(X_train_tfidf, data_train['label'], X_val_tfidf, data_val['label'])\n"
   ]
  },
  {
   "cell_type": "code",
   "execution_count": 11,
   "id": "1f5d143b4ed1ed1b",
   "metadata": {
    "ExecuteTime": {
     "end_time": "2025-10-31T09:41:45.347925Z",
     "start_time": "2025-10-31T09:41:45.055587Z"
    }
   },
   "outputs": [
    {
     "name": "stdout",
     "output_type": "stream",
     "text": [
      "Train Accuracy:1.00\n",
      "\n",
      "Validation Accuracy: 0.94\n",
      "\n",
      "classification_report:\n",
      "               precision    recall  f1-score   support\n",
      "\n",
      "           0     0.9350    0.9516    0.9432      1406\n",
      "           1     0.9478    0.9299    0.9388      1327\n",
      "\n",
      "    accuracy                         0.9411      2733\n",
      "   macro avg     0.9414    0.9408    0.9410      2733\n",
      "weighted avg     0.9412    0.9411    0.9411      2733\n",
      "\n"
     ]
    }
   ],
   "source": [
    "# Preprocessing setup 3: tf-idf removing stopwords\n",
    "model_nb3 = model_naives_bayes(X_train_tfidf3, data_train['label'], X_val_tfidf3, data_val['label'])\n"
   ]
  },
  {
   "cell_type": "markdown",
   "id": "25ed7078ff3ee747",
   "metadata": {},
   "source": [
    "### XGBoost"
   ]
  },
  {
   "cell_type": "code",
   "execution_count": 12,
   "id": "f9598bda",
   "metadata": {
    "ExecuteTime": {
     "end_time": "2025-10-31T09:42:58.207328Z",
     "start_time": "2025-10-31T09:42:12.075230Z"
    }
   },
   "outputs": [
    {
     "name": "stdout",
     "output_type": "stream",
     "text": [
      "Train Accuracy: 0.90\n",
      "\n",
      "Validation Accuracy: 0.84\n",
      "\n",
      "Classification Report:\n",
      "               precision    recall  f1-score   support\n",
      "\n",
      "           0     0.8827    0.7973    0.8378      1406\n",
      "           1     0.8052    0.8877    0.8444      1327\n",
      "\n",
      "    accuracy                         0.8412      2733\n",
      "   macro avg     0.8439    0.8425    0.8411      2733\n",
      "weighted avg     0.8451    0.8412    0.8410      2733\n",
      "\n"
     ]
    }
   ],
   "source": [
    "# XGBoost Setup 1\n",
    "model_xgb1 = model_xgboost(tfidf_matrix_train, data_train['label'], tfidf_matrix_val, data_val['label'])"
   ]
  },
  {
   "cell_type": "code",
   "execution_count": 13,
   "id": "bdea9b81afa2fb5d",
   "metadata": {
    "ExecuteTime": {
     "end_time": "2025-10-31T09:44:35.929777Z",
     "start_time": "2025-10-31T09:42:58.214144Z"
    }
   },
   "outputs": [
    {
     "name": "stdout",
     "output_type": "stream",
     "text": [
      "Train Accuracy: 0.93\n",
      "\n",
      "Validation Accuracy: 0.83\n",
      "\n",
      "Classification Report:\n",
      "               precision    recall  f1-score   support\n",
      "\n",
      "           0     0.8162    0.8620    0.8385      1406\n",
      "           1     0.8446    0.7943    0.8186      1327\n",
      "\n",
      "    accuracy                         0.8291      2733\n",
      "   macro avg     0.8304    0.8281    0.8286      2733\n",
      "weighted avg     0.8299    0.8291    0.8288      2733\n",
      "\n"
     ]
    }
   ],
   "source": [
    "# XGBoost Setup 2\n",
    "model_xgb2 = model_xgboost(X_train_tfidf, data_train['label'], X_val_tfidf, data_val['label'])"
   ]
  },
  {
   "cell_type": "code",
   "execution_count": 14,
   "id": "cc89239995790fe5",
   "metadata": {
    "ExecuteTime": {
     "end_time": "2025-10-31T09:45:54.735141Z",
     "start_time": "2025-10-31T09:44:35.957325Z"
    }
   },
   "outputs": [
    {
     "name": "stdout",
     "output_type": "stream",
     "text": [
      "Train Accuracy: 0.90\n",
      "\n",
      "Validation Accuracy: 0.82\n",
      "\n",
      "Classification Report:\n",
      "               precision    recall  f1-score   support\n",
      "\n",
      "           0     0.8192    0.8378    0.8284      1406\n",
      "           1     0.8239    0.8041    0.8139      1327\n",
      "\n",
      "    accuracy                         0.8214      2733\n",
      "   macro avg     0.8216    0.8210    0.8211      2733\n",
      "weighted avg     0.8215    0.8214    0.8214      2733\n",
      "\n"
     ]
    }
   ],
   "source": [
    "# XGBoost Setup 3\n",
    "model_xgb3 = model_xgboost(X_train_tfidf3, data_train['label'], X_val_tfidf3, data_val['label'])"
   ]
  },
  {
   "cell_type": "markdown",
   "id": "75fb345d81687515",
   "metadata": {},
   "source": [
    "### Random Forest"
   ]
  },
  {
   "cell_type": "code",
   "execution_count": 15,
   "id": "b23ef3f15eb1c81d",
   "metadata": {
    "ExecuteTime": {
     "end_time": "2025-10-31T09:46:26.033482Z",
     "start_time": "2025-10-31T09:45:54.767270Z"
    }
   },
   "outputs": [
    {
     "name": "stdout",
     "output_type": "stream",
     "text": [
      "Train Accuracy: 100.00%\n",
      "Random forest model\n",
      "accuracy: 0.9063300402488108\n",
      "Classification report:\n",
      "               precision    recall  f1-score   support\n",
      "\n",
      "           0       0.91      0.90      0.91      1406\n",
      "           1       0.90      0.91      0.90      1327\n",
      "\n",
      "    accuracy                           0.91      2733\n",
      "   macro avg       0.91      0.91      0.91      2733\n",
      "weighted avg       0.91      0.91      0.91      2733\n",
      "\n"
     ]
    }
   ],
   "source": [
    "# Random Forest setup 1\n",
    "model_rf1 = model_rf_train(tfidf_matrix_train, tfidf_matrix_val, data_train['label'], data_val['label'])"
   ]
  },
  {
   "cell_type": "code",
   "execution_count": 16,
   "id": "ca7ac01df85909fa",
   "metadata": {
    "ExecuteTime": {
     "end_time": "2025-10-31T09:47:12.858120Z",
     "start_time": "2025-10-31T09:46:26.063997Z"
    }
   },
   "outputs": [
    {
     "name": "stdout",
     "output_type": "stream",
     "text": [
      "Train Accuracy: 100.00%\n",
      "Random forest model\n",
      "accuracy: 0.9085254299304794\n",
      "Classification report:\n",
      "               precision    recall  f1-score   support\n",
      "\n",
      "           0       0.93      0.89      0.91      1406\n",
      "           1       0.89      0.93      0.91      1327\n",
      "\n",
      "    accuracy                           0.91      2733\n",
      "   macro avg       0.91      0.91      0.91      2733\n",
      "weighted avg       0.91      0.91      0.91      2733\n",
      "\n"
     ]
    }
   ],
   "source": [
    "# Random Forest setup 2\n",
    "model_rf2 = model_rf_train(X_train_tfidf, X_val_tfidf, data_train['label'], data_val['label'])"
   ]
  },
  {
   "cell_type": "code",
   "execution_count": 17,
   "id": "49e14d6a9c1cc376",
   "metadata": {
    "ExecuteTime": {
     "end_time": "2025-10-31T09:48:03.717014Z",
     "start_time": "2025-10-31T09:47:12.870557Z"
    }
   },
   "outputs": [
    {
     "name": "stdout",
     "output_type": "stream",
     "text": [
      "Train Accuracy: 100.00%\n",
      "Random forest model\n",
      "accuracy: 0.9008415660446396\n",
      "Classification report:\n",
      "               precision    recall  f1-score   support\n",
      "\n",
      "           0       0.89      0.93      0.91      1406\n",
      "           1       0.92      0.87      0.90      1327\n",
      "\n",
      "    accuracy                           0.90      2733\n",
      "   macro avg       0.90      0.90      0.90      2733\n",
      "weighted avg       0.90      0.90      0.90      2733\n",
      "\n"
     ]
    }
   ],
   "source": [
    "# Random Forest setup 2\n",
    "model_rf3 = model_rf_train(X_train_tfidf3, X_val_tfidf3, data_train['label'], data_val['label'])"
   ]
  },
  {
   "cell_type": "markdown",
   "id": "b654334cd2c184ca",
   "metadata": {},
   "source": [
    "### Logistic Regression"
   ]
  },
  {
   "cell_type": "code",
   "execution_count": 18,
   "id": "3d03646ca8316264",
   "metadata": {
    "ExecuteTime": {
     "end_time": "2025-10-31T09:48:03.852461Z",
     "start_time": "2025-10-31T09:48:03.731158Z"
    }
   },
   "outputs": [
    {
     "name": "stdout",
     "output_type": "stream",
     "text": [
      "\n",
      "Train Accuracy: 96.91%\n",
      "\n",
      "Validation Accuracy: 93.27%\n",
      "\n",
      "Classification Report:\n",
      "               precision    recall  f1-score   support\n",
      "\n",
      "           0       0.94      0.92      0.93      1406\n",
      "           1       0.92      0.94      0.93      1327\n",
      "\n",
      "    accuracy                           0.93      2733\n",
      "   macro avg       0.93      0.93      0.93      2733\n",
      "weighted avg       0.93      0.93      0.93      2733\n",
      "\n"
     ]
    }
   ],
   "source": [
    "#Logistic Regression setup1\n",
    "model_lr1 = model_logistic_regression(tfidf_matrix_train, data_train['label'], tfidf_matrix_val, data_val['label'])"
   ]
  },
  {
   "cell_type": "code",
   "execution_count": 19,
   "id": "3d4db638a9b19be2",
   "metadata": {
    "ExecuteTime": {
     "end_time": "2025-10-31T09:48:04.316170Z",
     "start_time": "2025-10-31T09:48:03.862486Z"
    }
   },
   "outputs": [
    {
     "name": "stdout",
     "output_type": "stream",
     "text": [
      "\n",
      "Train Accuracy: 97.62%\n",
      "\n",
      "Validation Accuracy: 94.04%\n",
      "\n",
      "Classification Report:\n",
      "               precision    recall  f1-score   support\n",
      "\n",
      "           0       0.94      0.94      0.94      1406\n",
      "           1       0.94      0.94      0.94      1327\n",
      "\n",
      "    accuracy                           0.94      2733\n",
      "   macro avg       0.94      0.94      0.94      2733\n",
      "weighted avg       0.94      0.94      0.94      2733\n",
      "\n"
     ]
    }
   ],
   "source": [
    "#Logistic Regression setup2\n",
    "model_lr2 = model_logistic_regression(X_train_tfidf, data_train['label'], X_val_tfidf, data_val['label'])"
   ]
  },
  {
   "cell_type": "code",
   "execution_count": 20,
   "id": "20f111e90af74d30",
   "metadata": {
    "ExecuteTime": {
     "end_time": "2025-10-31T09:48:04.527210Z",
     "start_time": "2025-10-31T09:48:04.325562Z"
    }
   },
   "outputs": [
    {
     "name": "stdout",
     "output_type": "stream",
     "text": [
      "\n",
      "Train Accuracy: 97.54%\n",
      "\n",
      "Validation Accuracy: 92.54%\n",
      "\n",
      "Classification Report:\n",
      "               precision    recall  f1-score   support\n",
      "\n",
      "           0       0.94      0.92      0.93      1406\n",
      "           1       0.91      0.94      0.92      1327\n",
      "\n",
      "    accuracy                           0.93      2733\n",
      "   macro avg       0.93      0.93      0.93      2733\n",
      "weighted avg       0.93      0.93      0.93      2733\n",
      "\n"
     ]
    }
   ],
   "source": [
    "#Logistic Regression setup3\n",
    "model_lr3 = model_logistic_regression(X_train_tfidf3, data_train['label'], X_val_tfidf3, data_val['label'])"
   ]
  },
  {
   "cell_type": "code",
   "execution_count": 21,
   "id": "ec251c76fdff9fc4",
   "metadata": {
    "ExecuteTime": {
     "end_time": "2025-10-31T11:24:39.236268Z",
     "start_time": "2025-10-31T11:24:38.906707Z"
    }
   },
   "outputs": [
    {
     "name": "stdout",
     "output_type": "stream",
     "text": [
      "\n",
      "Train Accuracy: 92.98%\n",
      "\n",
      "Validation Accuracy: 92.61%\n",
      "\n",
      "Classification Report:\n",
      "               precision    recall  f1-score   support\n",
      "\n",
      "           0       0.95      0.90      0.93      1406\n",
      "           1       0.90      0.95      0.93      1327\n",
      "\n",
      "    accuracy                           0.93      2733\n",
      "   macro avg       0.93      0.93      0.93      2733\n",
      "weighted avg       0.93      0.93      0.93      2733\n",
      "\n"
     ]
    }
   ],
   "source": [
    "# Preprocessing setup 4: Embeddings\n",
    "model_lr4 = model_logistic_regression(X_train_emb, data_train['label'], X_val_emb, data_val['label'])"
   ]
  },
  {
   "cell_type": "markdown",
   "id": "b4aecc62ae18e426",
   "metadata": {},
   "source": [
    "### Simple Feedforward Neural Network"
   ]
  },
  {
   "cell_type": "code",
   "execution_count": 22,
   "id": "5e8ac01f",
   "metadata": {},
   "outputs": [
    {
     "name": "stderr",
     "output_type": "stream",
     "text": [
      "d:\\ownCloud\\Dokumente\\Ironhack\\.venv\\Lib\\site-packages\\keras\\src\\layers\\core\\dense.py:95: UserWarning: Do not pass an `input_shape`/`input_dim` argument to a layer. When using Sequential models, prefer using an `Input(shape)` object as the first layer in the model instead.\n",
      "  super().__init__(activity_regularizer=activity_regularizer, **kwargs)\n"
     ]
    },
    {
     "name": "stdout",
     "output_type": "stream",
     "text": [
      "Epoch 1/20\n",
      "\u001b[1m246/246\u001b[0m \u001b[32m━━━━━━━━━━━━━━━━━━━━\u001b[0m\u001b[37m\u001b[0m \u001b[1m3s\u001b[0m 8ms/step - accuracy: 0.8551 - loss: 0.3242 - val_accuracy: 0.9308 - val_loss: 0.1810\n",
      "Epoch 2/20\n",
      "\u001b[1m246/246\u001b[0m \u001b[32m━━━━━━━━━━━━━━━━━━━━\u001b[0m\u001b[37m\u001b[0m \u001b[1m2s\u001b[0m 7ms/step - accuracy: 0.9364 - loss: 0.1592 - val_accuracy: 0.9330 - val_loss: 0.1733\n",
      "Epoch 3/20\n",
      "\u001b[1m246/246\u001b[0m \u001b[32m━━━━━━━━━━━━━━━━━━━━\u001b[0m\u001b[37m\u001b[0m \u001b[1m2s\u001b[0m 7ms/step - accuracy: 0.9533 - loss: 0.1213 - val_accuracy: 0.9356 - val_loss: 0.1685\n",
      "Epoch 4/20\n",
      "\u001b[1m246/246\u001b[0m \u001b[32m━━━━━━━━━━━━━━━━━━━━\u001b[0m\u001b[37m\u001b[0m \u001b[1m2s\u001b[0m 7ms/step - accuracy: 0.9689 - loss: 0.0865 - val_accuracy: 0.9312 - val_loss: 0.1898\n",
      "Epoch 5/20\n",
      "\u001b[1m246/246\u001b[0m \u001b[32m━━━━━━━━━━━━━━━━━━━━\u001b[0m\u001b[37m\u001b[0m \u001b[1m2s\u001b[0m 7ms/step - accuracy: 0.9806 - loss: 0.0578 - val_accuracy: 0.9316 - val_loss: 0.2060\n",
      "Epoch 6/20\n",
      "\u001b[1m246/246\u001b[0m \u001b[32m━━━━━━━━━━━━━━━━━━━━\u001b[0m\u001b[37m\u001b[0m \u001b[1m2s\u001b[0m 8ms/step - accuracy: 0.9867 - loss: 0.0391 - val_accuracy: 0.9371 - val_loss: 0.2328\n",
      "Epoch 7/20\n",
      "\u001b[1m246/246\u001b[0m \u001b[32m━━━━━━━━━━━━━━━━━━━━\u001b[0m\u001b[37m\u001b[0m \u001b[1m2s\u001b[0m 8ms/step - accuracy: 0.9893 - loss: 0.0315 - val_accuracy: 0.9341 - val_loss: 0.2484\n",
      "Epoch 8/20\n",
      "\u001b[1m246/246\u001b[0m \u001b[32m━━━━━━━━━━━━━━━━━━━━\u001b[0m\u001b[37m\u001b[0m \u001b[1m2s\u001b[0m 8ms/step - accuracy: 0.9906 - loss: 0.0278 - val_accuracy: 0.9374 - val_loss: 0.2563\n",
      "\u001b[1m982/982\u001b[0m \u001b[32m━━━━━━━━━━━━━━━━━━━━\u001b[0m\u001b[37m\u001b[0m \u001b[1m1s\u001b[0m 1ms/step\n",
      "\u001b[1m86/86\u001b[0m \u001b[32m━━━━━━━━━━━━━━━━━━━━\u001b[0m\u001b[37m\u001b[0m \u001b[1m0s\u001b[0m 1ms/step\n",
      "Train Accuracy: 97.73%\n",
      "Validation Accuracy: 93.56%\n",
      "Validation Classification Report:\n",
      "               precision    recall  f1-score   support\n",
      "\n",
      "           0       0.93      0.94      0.94      1406\n",
      "           1       0.94      0.93      0.93      1327\n",
      "\n",
      "    accuracy                           0.94      2733\n",
      "   macro avg       0.94      0.94      0.94      2733\n",
      "weighted avg       0.94      0.94      0.94      2733\n",
      "\n"
     ]
    }
   ],
   "source": [
    "# Simple Feedforward NN with preprocessing setup1\n",
    "model_sfnn1 = model_sfnn_train(tfidf_matrix_train, data_train['label'], tfidf_matrix_val, data_val['label'])"
   ]
  },
  {
   "cell_type": "code",
   "execution_count": 23,
   "id": "d860471b6fea2b32",
   "metadata": {},
   "outputs": [
    {
     "name": "stdout",
     "output_type": "stream",
     "text": [
      "Epoch 1/20\n"
     ]
    },
    {
     "name": "stderr",
     "output_type": "stream",
     "text": [
      "d:\\ownCloud\\Dokumente\\Ironhack\\.venv\\Lib\\site-packages\\keras\\src\\layers\\core\\dense.py:95: UserWarning: Do not pass an `input_shape`/`input_dim` argument to a layer. When using Sequential models, prefer using an `Input(shape)` object as the first layer in the model instead.\n",
      "  super().__init__(activity_regularizer=activity_regularizer, **kwargs)\n"
     ]
    },
    {
     "name": "stdout",
     "output_type": "stream",
     "text": [
      "\u001b[1m246/246\u001b[0m \u001b[32m━━━━━━━━━━━━━━━━━━━━\u001b[0m\u001b[37m\u001b[0m \u001b[1m3s\u001b[0m 8ms/step - accuracy: 0.8629 - loss: 0.3252 - val_accuracy: 0.9294 - val_loss: 0.1859\n",
      "Epoch 2/20\n",
      "\u001b[1m246/246\u001b[0m \u001b[32m━━━━━━━━━━━━━━━━━━━━\u001b[0m\u001b[37m\u001b[0m \u001b[1m2s\u001b[0m 7ms/step - accuracy: 0.9384 - loss: 0.1574 - val_accuracy: 0.9327 - val_loss: 0.1850\n",
      "Epoch 3/20\n",
      "\u001b[1m246/246\u001b[0m \u001b[32m━━━━━━━━━━━━━━━━━━━━\u001b[0m\u001b[37m\u001b[0m \u001b[1m2s\u001b[0m 8ms/step - accuracy: 0.9510 - loss: 0.1235 - val_accuracy: 0.9330 - val_loss: 0.1925\n",
      "Epoch 4/20\n",
      "\u001b[1m246/246\u001b[0m \u001b[32m━━━━━━━━━━━━━━━━━━━━\u001b[0m\u001b[37m\u001b[0m \u001b[1m2s\u001b[0m 8ms/step - accuracy: 0.9666 - loss: 0.0917 - val_accuracy: 0.9345 - val_loss: 0.2125\n",
      "Epoch 5/20\n",
      "\u001b[1m246/246\u001b[0m \u001b[32m━━━━━━━━━━━━━━━━━━━━\u001b[0m\u001b[37m\u001b[0m \u001b[1m2s\u001b[0m 8ms/step - accuracy: 0.9760 - loss: 0.0667 - val_accuracy: 0.9316 - val_loss: 0.2376\n",
      "Epoch 6/20\n",
      "\u001b[1m246/246\u001b[0m \u001b[32m━━━━━━━━━━━━━━━━━━━━\u001b[0m\u001b[37m\u001b[0m \u001b[1m3s\u001b[0m 8ms/step - accuracy: 0.9833 - loss: 0.0503 - val_accuracy: 0.9305 - val_loss: 0.2629\n",
      "Epoch 7/20\n",
      "\u001b[1m246/246\u001b[0m \u001b[32m━━━━━━━━━━━━━━━━━━━━\u001b[0m\u001b[37m\u001b[0m \u001b[1m2s\u001b[0m 8ms/step - accuracy: 0.9875 - loss: 0.0382 - val_accuracy: 0.9338 - val_loss: 0.2815\n",
      "\u001b[1m982/982\u001b[0m \u001b[32m━━━━━━━━━━━━━━━━━━━━\u001b[0m\u001b[37m\u001b[0m \u001b[1m1s\u001b[0m 1ms/step\n",
      "\u001b[1m86/86\u001b[0m \u001b[32m━━━━━━━━━━━━━━━━━━━━\u001b[0m\u001b[37m\u001b[0m \u001b[1m0s\u001b[0m 1ms/step\n",
      "Train Accuracy: 96.18%\n",
      "Validation Accuracy: 93.27%\n",
      "Validation Classification Report:\n",
      "               precision    recall  f1-score   support\n",
      "\n",
      "           0       0.95      0.92      0.93      1406\n",
      "           1       0.92      0.94      0.93      1327\n",
      "\n",
      "    accuracy                           0.93      2733\n",
      "   macro avg       0.93      0.93      0.93      2733\n",
      "weighted avg       0.93      0.93      0.93      2733\n",
      "\n"
     ]
    }
   ],
   "source": [
    "# Simple Feedforward NN with preprocessing setup2\n",
    "model_sfnn2 = model_sfnn_train(X_train_tfidf3, data_train['label'], X_val_tfidf3, data_val['label'])"
   ]
  },
  {
   "cell_type": "code",
   "execution_count": 10,
   "id": "d34dc948",
   "metadata": {},
   "outputs": [
    {
     "name": "stdout",
     "output_type": "stream",
     "text": [
      "Epoch 1/20\n"
     ]
    },
    {
     "name": "stderr",
     "output_type": "stream",
     "text": [
      "d:\\ownCloud\\Dokumente\\Ironhack\\.venv\\Lib\\site-packages\\keras\\src\\layers\\core\\dense.py:95: UserWarning: Do not pass an `input_shape`/`input_dim` argument to a layer. When using Sequential models, prefer using an `Input(shape)` object as the first layer in the model instead.\n",
      "  super().__init__(activity_regularizer=activity_regularizer, **kwargs)\n"
     ]
    },
    {
     "name": "stdout",
     "output_type": "stream",
     "text": [
      "\u001b[1m246/246\u001b[0m \u001b[32m━━━━━━━━━━━━━━━━━━━━\u001b[0m\u001b[37m\u001b[0m \u001b[1m2s\u001b[0m 4ms/step - accuracy: 0.9030 - loss: 0.2514 - val_accuracy: 0.9338 - val_loss: 0.1640\n",
      "Epoch 2/20\n",
      "\u001b[1m246/246\u001b[0m \u001b[32m━━━━━━━━━━━━━━━━━━━━\u001b[0m\u001b[37m\u001b[0m \u001b[1m1s\u001b[0m 3ms/step - accuracy: 0.9403 - loss: 0.1519 - val_accuracy: 0.9411 - val_loss: 0.1483\n",
      "Epoch 3/20\n",
      "\u001b[1m246/246\u001b[0m \u001b[32m━━━━━━━━━━━━━━━━━━━━\u001b[0m\u001b[37m\u001b[0m \u001b[1m1s\u001b[0m 3ms/step - accuracy: 0.9535 - loss: 0.1208 - val_accuracy: 0.9458 - val_loss: 0.1370\n",
      "Epoch 4/20\n",
      "\u001b[1m246/246\u001b[0m \u001b[32m━━━━━━━━━━━━━━━━━━━━\u001b[0m\u001b[37m\u001b[0m \u001b[1m1s\u001b[0m 3ms/step - accuracy: 0.9647 - loss: 0.0945 - val_accuracy: 0.9488 - val_loss: 0.1281\n",
      "Epoch 5/20\n",
      "\u001b[1m246/246\u001b[0m \u001b[32m━━━━━━━━━━━━━━━━━━━━\u001b[0m\u001b[37m\u001b[0m \u001b[1m1s\u001b[0m 3ms/step - accuracy: 0.9743 - loss: 0.0728 - val_accuracy: 0.9539 - val_loss: 0.1302\n",
      "Epoch 6/20\n",
      "\u001b[1m246/246\u001b[0m \u001b[32m━━━━━━━━━━━━━━━━━━━━\u001b[0m\u001b[37m\u001b[0m \u001b[1m1s\u001b[0m 3ms/step - accuracy: 0.9796 - loss: 0.0563 - val_accuracy: 0.9521 - val_loss: 0.1382\n",
      "Epoch 7/20\n",
      "\u001b[1m246/246\u001b[0m \u001b[32m━━━━━━━━━━━━━━━━━━━━\u001b[0m\u001b[37m\u001b[0m \u001b[1m1s\u001b[0m 3ms/step - accuracy: 0.9838 - loss: 0.0447 - val_accuracy: 0.9510 - val_loss: 0.1319\n",
      "Epoch 8/20\n",
      "\u001b[1m246/246\u001b[0m \u001b[32m━━━━━━━━━━━━━━━━━━━━\u001b[0m\u001b[37m\u001b[0m \u001b[1m1s\u001b[0m 3ms/step - accuracy: 0.9875 - loss: 0.0364 - val_accuracy: 0.9528 - val_loss: 0.1443\n",
      "Epoch 9/20\n",
      "\u001b[1m246/246\u001b[0m \u001b[32m━━━━━━━━━━━━━━━━━━━━\u001b[0m\u001b[37m\u001b[0m \u001b[1m1s\u001b[0m 3ms/step - accuracy: 0.9898 - loss: 0.0296 - val_accuracy: 0.9473 - val_loss: 0.1585\n",
      "\u001b[1m982/982\u001b[0m \u001b[32m━━━━━━━━━━━━━━━━━━━━\u001b[0m\u001b[37m\u001b[0m \u001b[1m1s\u001b[0m 697us/step\n",
      "\u001b[1m86/86\u001b[0m \u001b[32m━━━━━━━━━━━━━━━━━━━━\u001b[0m\u001b[37m\u001b[0m \u001b[1m0s\u001b[0m 828us/step\n",
      "Train Accuracy: 98.35%\n",
      "Validation Accuracy: 94.88%\n",
      "Validation Classification Report:\n",
      "               precision    recall  f1-score   support\n",
      "\n",
      "           0       0.96      0.94      0.95      1406\n",
      "           1       0.94      0.96      0.95      1327\n",
      "\n",
      "    accuracy                           0.95      2733\n",
      "   macro avg       0.95      0.95      0.95      2733\n",
      "weighted avg       0.95      0.95      0.95      2733\n",
      "\n"
     ]
    }
   ],
   "source": [
    "# Simple Feedforward NN with preprocessing setup3\n",
    "model_sfnn3 = model_sfnn_train(X_train_emb, data_train['label'], X_val_emb, data_val['label'])"
   ]
  },
  {
   "cell_type": "code",
   "execution_count": null,
   "id": "21c7a2297cced1e0",
   "metadata": {},
   "outputs": [],
   "source": [
    "## make predictions on test data\n",
    "filepath = r\".\\data\\testing_data_lowercase_labels.csv\"\n",
    "\n",
    "#predict_values(model_rf, tfidf_matrix_test, data_test, filepath)\n",
    "#model_nb2 = model_naives_bayes(X_train_tfidf, data_train['label'], X_val_tfidf, data_val['label'])\n",
    "predict_values(model_nb2, X_test_tfidf, data_test, filepath)\n"
   ]
  }
 ],
 "metadata": {
  "kernelspec": {
   "display_name": ".venv",
   "language": "python",
   "name": "python3"
  },
  "language_info": {
   "codemirror_mode": {
    "name": "ipython",
    "version": 3
   },
   "file_extension": ".py",
   "mimetype": "text/x-python",
   "name": "python",
   "nbconvert_exporter": "python",
   "pygments_lexer": "ipython3",
   "version": "3.11.0"
  }
 },
 "nbformat": 4,
 "nbformat_minor": 5
}
