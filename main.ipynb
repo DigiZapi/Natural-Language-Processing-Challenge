{
 "cells": [
  {
   "cell_type": "markdown",
   "id": "1be66f97",
   "metadata": {},
   "source": [
    "Import Libs"
   ]
  },
  {
   "cell_type": "code",
   "execution_count": null,
   "id": "07c0ede9",
   "metadata": {},
   "outputs": [],
   "source": [
    "import pandas as pd\n",
    "\n",
    "from preprocess_data import clean_text\n",
    "from model_randomF import model_rf_train\n",
    "from model_MultinomialNB import model_mnb_train"
   ]
  },
  {
   "cell_type": "code",
   "execution_count": null,
   "id": "750629ad",
   "metadata": {},
   "outputs": [],
   "source": []
  },
  {
   "cell_type": "code",
   "execution_count": null,
   "id": "cecb90c6",
   "metadata": {},
   "outputs": [],
   "source": [
    "# get csv data\n",
    "\n",
    "def read_Data(path):\n",
    "\n",
    "    # Define column names\n",
    "    column_names = ['label', 'text']\n",
    "    return pd.read_csv(path, delimiter='\\t', encoding='latin-1', header=None, names=column_names)"
   ]
  },
  {
   "cell_type": "code",
   "execution_count": null,
   "id": "9317fe85",
   "metadata": {},
   "outputs": [],
   "source": [
    "# read data\n",
    "\n",
    "data_train = read_Data(r\".\\data\\training_data_lowercase.csv\")\n",
    "data_test = read_Data(r\".\\data\\testing_data_lowercase_nolabels.csv\")    \n",
    "\n",
    "# preview data\n",
    "print(data_train.head, \"\\n\")\n",
    "print(data_test.head, \"\\n\")\n",
    "print(\"Shape train data:\\n\", data_train.shape)\n",
    "print(\"Shape test data:\\n\", data_test.shape)\n",
    "\n",
    "data_train['cleaned_text'] = data_train['text'].apply(clean_text)\n",
    "data_test['cleaned_text'] = data_train['text'].apply(clean_text)\n",
    "\n",
    "print(data_train[\"cleaned_text\"].head, \"\\n\")\n",
    "print(data_test[\"cleaned_text\"].head, \"\\n\")"
   ]
  }
 ],
 "metadata": {
  "kernelspec": {
   "display_name": ".venv",
   "language": "python",
   "name": "python3"
  },
  "language_info": {
   "codemirror_mode": {
    "name": "ipython",
    "version": 3
   },
   "file_extension": ".py",
   "mimetype": "text/x-python",
   "name": "python",
   "nbconvert_exporter": "python",
   "pygments_lexer": "ipython3",
   "version": "3.11.0"
  }
 },
 "nbformat": 4,
 "nbformat_minor": 5
}
