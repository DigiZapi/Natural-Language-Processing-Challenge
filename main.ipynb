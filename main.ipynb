{
 "cells": [
  {
   "cell_type": "markdown",
   "id": "1be66f97",
   "metadata": {},
   "source": [
    "Import Libs"
   ]
  },
  {
   "cell_type": "code",
   "id": "07c0ede9",
   "metadata": {
    "ExecuteTime": {
     "end_time": "2025-10-31T11:25:08.283170Z",
     "start_time": "2025-10-31T11:25:08.276093Z"
    }
   },
   "source": [
    "import pandas as pd\n",
    "from sklearn.model_selection import train_test_split\n",
    "from sklearn.feature_extraction.text import TfidfVectorizer\n",
    "from sentence_transformers import SentenceTransformer\n",
    "\n",
    "# own packages\n",
    "from preprocess_data import clean_text\n",
    "from preprocess_data import lemmatize_text\n",
    "from preprocess_data import tfidf_vec_transform, tfidf_vec_fit_transform\n",
    "from preprocess_data import count_vectorizer\n",
    "from models import model_sfnn_train\n",
    "from models import model_rf_train, model_naives_bayes, model_logistic_regression, model_multinominalNB_train, predict_values, model_xgboost\n",
    "\n"
   ],
   "outputs": [],
   "execution_count": 44
  },
  {
   "cell_type": "markdown",
   "id": "d1430f34",
   "metadata": {},
   "source": "## Importing and reading the data"
  },
  {
   "cell_type": "code",
   "id": "cecb90c6",
   "metadata": {
    "ExecuteTime": {
     "end_time": "2025-10-31T11:25:09.669245Z",
     "start_time": "2025-10-31T11:25:09.664335Z"
    }
   },
   "source": [
    "# get csv data\n",
    "def read_Data(path):\n",
    "\n",
    "    # Define column names\n",
    "    column_names = ['label', 'text']\n",
    "\n",
    "    df = pd.read_csv(path, delimiter='\\t', encoding=\"utf-8-sig\", header=None, names=column_names)\n",
    "    df.columns = df.columns.str.replace('\\ufeff', '')\n",
    "    df['label'] = df['label'].astype(str).str.replace('\\ufeff', '')\n",
    "    df['label'] = df['label'].astype(int)\n",
    "    \n",
    "    return df\n",
    "\n"
   ],
   "outputs": [],
   "execution_count": 45
  },
  {
   "cell_type": "code",
   "id": "a1cacf3f",
   "metadata": {
    "ExecuteTime": {
     "end_time": "2025-10-31T11:25:10.448311Z",
     "start_time": "2025-10-31T11:25:10.231097Z"
    }
   },
   "source": [
    "## read data windows\n",
    "#data_train_val = read_Data(r\".\\data\\training_data_lowercase.csv\")           # used for train and val data\n",
    "#data_test = read_Data(r\".\\data\\testing_data_lowercase_nolabels.csv\")        # data for the predictions\n",
    "\n",
    "## read data Mac\n",
    "data_train_val = read_Data(\"data/training_data_lowercase.csv\")           # used for train and val data\n",
    "data_test = read_Data(\"data/testing_data_lowercase_nolabels.csv\")        # data for the predictions\n",
    "\n",
    "\n",
    "## split data_train into train and val data\n",
    "data_train, data_val = train_test_split(data_train_val, test_size=0.08, random_state=42, stratify=data_train_val['label'])\n"
   ],
   "outputs": [],
   "execution_count": 46
  },
  {
   "metadata": {
    "ExecuteTime": {
     "end_time": "2025-10-31T11:25:10.865750Z",
     "start_time": "2025-10-31T11:25:10.861669Z"
    }
   },
   "cell_type": "code",
   "source": [
    "## preview data\n",
    "#print(data_train.head, \"\\n\")\n",
    "#print(data_test.head, \"\\n\")\n",
    "print(\"Shape train data:\\n\", data_train_val.shape)\n",
    "print(\"Shape test data:\\n\", data_test.shape)\n"
   ],
   "id": "a8aa1623a063d39e",
   "outputs": [
    {
     "name": "stdout",
     "output_type": "stream",
     "text": [
      "Shape train data:\n",
      " (34152, 2)\n",
      "Shape test data:\n",
      " (9984, 2)\n"
     ]
    }
   ],
   "execution_count": 47
  },
  {
   "metadata": {},
   "cell_type": "markdown",
   "source": "## Pre-processing data",
   "id": "7e5044817001196e"
  },
  {
   "metadata": {},
   "cell_type": "markdown",
   "source": "Setup with advanced data cleaning",
   "id": "f50fcf737f5439ca"
  },
  {
   "cell_type": "code",
   "id": "9317fe85",
   "metadata": {
    "ExecuteTime": {
     "end_time": "2025-10-31T11:25:15.726189Z",
     "start_time": "2025-10-31T11:25:12.568659Z"
    }
   },
   "source": [
    "# Preprocessing steps\n",
    "\n",
    "# clean data\n",
    "data_train['cleaned_text'] = data_train['text'].apply(clean_text)\n",
    "data_val['cleaned_text'] = data_val['text'].apply(clean_text)\n",
    "data_test['cleaned_text'] = data_test['text'].apply(clean_text)\n",
    "\n",
    "print(\"Cleand text train: \\n\", data_train[\"cleaned_text\"].head, \"\\n\")\n",
    "print(\"Cleand text test: \\n\", data_test[\"cleaned_text\"].head, \"\\n\")\n",
    "\n",
    "\n",
    "## lemmatize data\n",
    "data_train['lemmatized_text'] = data_train['cleaned_text'].apply(lemmatize_text)\n",
    "data_val['lemmatized_text'] = data_val['cleaned_text'].apply(lemmatize_text)\n",
    "data_test['lemmatized_text'] = data_test['cleaned_text'].apply(lemmatize_text)\n",
    "\n",
    "print(\"lemmatized_text train: \\n\", data_train['lemmatized_text'].head, \"\\n\")\n",
    "print(\"lemmatized_text test: \\n\", data_test['lemmatized_text'].head, \"\\n\")\n",
    "\n",
    "# calc tf-idf matrix on lemmatized data\n",
    "vectorizer = TfidfVectorizer(ngram_range=(1,2))\n",
    "\n",
    "tfidf_matrix_train = vectorizer.fit_transform(data_train['lemmatized_text'])\n",
    "tfidf_matrix_val = vectorizer.transform(data_val['lemmatized_text'])\n",
    "tfidf_matrix_test = vectorizer.transform(data_test['lemmatized_text'])\n"
   ],
   "outputs": [
    {
     "name": "stdout",
     "output_type": "stream",
     "text": [
      "Cleand text train: \n",
      " <bound method NDFrame.head of 6602     [fox, host, throws, hissy, fit, cant, call, pr...\n",
      "930      [trump, unpopular, crowds, bussed, cheer, pola...\n",
      "29744    [congratulations, eu, moves, brexit, phase, tw...\n",
      "24734    [trumps, national, security, adviser, vows, ta...\n",
      "15772    [republican, turns, tables, fbi, deputy, direc...\n",
      "                               ...                        \n",
      "27469    [us, pledges, strong, response, event, another...\n",
      "27793    [republican, presidential, candidate, cruz, ra...\n",
      "883                                         [like, father]\n",
      "25547    [congress, passes, funding, bill, averting, go...\n",
      "3939     [hilariously, amazing, video, weve, waiting, e...\n",
      "Name: cleaned_text, Length: 31419, dtype: object> \n",
      "\n",
      "Cleand text test: \n",
      " <bound method NDFrame.head of 0       [copycat, muslim, terrorist, arrested, assault...\n",
      "1       [wow, chicago, protester, caught, camera, admi...\n",
      "2       [germanys, fdp, look, fill, schaeubles, big, s...\n",
      "3       [mi, school, sends, welcome, back, packet, war...\n",
      "4       [un, seeks, massive, aid, boost, amid, rohingy...\n",
      "                              ...                        \n",
      "9979    [boom, fox, news, leftist, chris, wallace, att...\n",
      "9980    [list, democrat, hypocrites, voted, filibuster...\n",
      "9981    [new, fires, ravage, rohingya, villages, north...\n",
      "9982    [meals, wheels, shuts, lyin, lefties, truth, m...\n",
      "9983    [brilliant, tucker, carlson, ayaan, hirsi, ali...\n",
      "Name: cleaned_text, Length: 9984, dtype: object> \n",
      "\n",
      "lemmatized_text train: \n",
      " <bound method NDFrame.head of 6602     fox host throw hissy fit cant call president o...\n",
      "930        trump unpopular crowd bussed cheer poland visit\n",
      "29744    congratulation eu move brexit phase two warns ...\n",
      "24734    trump national security adviser vow tackle nor...\n",
      "15772    republican turn table fbi deputy director hot ...\n",
      "                               ...                        \n",
      "27469    u pledge strong response event another north k...\n",
      "27793    republican presidential candidate cruz radical...\n",
      "883                                            like father\n",
      "25547    congress pass funding bill averting government...\n",
      "3939     hilariously amazing video weve waiting electio...\n",
      "Name: lemmatized_text, Length: 31419, dtype: object> \n",
      "\n",
      "lemmatized_text test: \n",
      " <bound method NDFrame.head of 0        copycat muslim terrorist arrested assault weapon\n",
      "1       wow chicago protester caught camera admits vio...\n",
      "2               germany fdp look fill schaeubles big shoe\n",
      "3       mi school sends welcome back packet warning ki...\n",
      "4       un seek massive aid boost amid rohingya emerge...\n",
      "                              ...                        \n",
      "9979    boom fox news leftist chris wallace attempt tr...\n",
      "9980    list democrat hypocrite voted filibuster gw bu...\n",
      "9981    new fire ravage rohingya village northwest mya...\n",
      "9982    meal wheel shuts lyin lefty truth moveonorgs f...\n",
      "9983    brilliant tucker carlson ayaan hirsi ali discu...\n",
      "Name: lemmatized_text, Length: 9984, dtype: object> \n",
      "\n"
     ]
    }
   ],
   "execution_count": 48
  },
  {
   "metadata": {},
   "cell_type": "markdown",
   "source": [
    "**TF-IDF only**\n",
    "\n",
    "With and without stop-words function"
   ],
   "id": "d84cbb745f6ba68b"
  },
  {
   "metadata": {},
   "cell_type": "markdown",
   "source": "Pre-processing setup 2: TF-IDF Vectorizer (without stopwords argument)",
   "id": "21dc59f7c3743c6a"
  },
  {
   "metadata": {
    "ExecuteTime": {
     "end_time": "2025-10-31T11:25:25.820624Z",
     "start_time": "2025-10-31T11:25:24.671103Z"
    }
   },
   "cell_type": "code",
   "source": [
    "# calc tf-idf matrix with uncleaned data\n",
    "vectorizer2 = TfidfVectorizer(ngram_range=(1, 3))\n",
    "X_train_tfidf = vectorizer2.fit_transform(data_train['text'])\n",
    "X_val_tfidf = vectorizer2.transform(data_val['text'])\n",
    "X_test_tfidf = vectorizer2.transform(data_test['text'])\n"
   ],
   "id": "3761054c17a3691f",
   "outputs": [],
   "execution_count": 49
  },
  {
   "metadata": {},
   "cell_type": "markdown",
   "source": "Pre-processing setup 3: TF-IDF Vectorizer (without stopwords argument)",
   "id": "594dcfc9749b418"
  },
  {
   "metadata": {
    "ExecuteTime": {
     "end_time": "2025-10-31T11:25:26.797601Z",
     "start_time": "2025-10-31T11:25:25.864581Z"
    }
   },
   "cell_type": "code",
   "source": [
    "\n",
    "# calc tf-idf matrix with uncleaned data, tf-idf removing stopwords\n",
    "vectorizer3 = TfidfVectorizer(stop_words=\"english\", ngram_range=(1, 3))\n",
    "X_train_tfidf3 = vectorizer3.fit_transform(data_train['text'])\n",
    "X_val_tfidf3 = vectorizer3.transform(data_val['text'])\n",
    "X_test_tfidf3 = vectorizer3.transform(data_test['text'])"
   ],
   "id": "c9ad12fa21dc722b",
   "outputs": [],
   "execution_count": 50
  },
  {
   "metadata": {},
   "cell_type": "markdown",
   "source": "Pre-processing setup 4: Embeddings",
   "id": "ecb7da35f7e59515"
  },
  {
   "metadata": {
    "ExecuteTime": {
     "end_time": "2025-10-31T11:16:58.312049Z",
     "start_time": "2025-10-31T11:16:18.889274Z"
    }
   },
   "cell_type": "code",
   "source": [
    "\n",
    "# Load pretrained embedding model\n",
    "embedder = SentenceTransformer(\"all-MiniLM-L6-v2\")\n",
    "\n",
    "# Convert text to embeddings\n",
    "X_train_emb = embedder.encode(data_train['text'].tolist(), show_progress_bar=True)\n",
    "X_val_emb = embedder.encode(data_val['text'].tolist(), show_progress_bar=True)\n",
    "X_test_emb = embedder.encode(data_test['text'].tolist(), show_progress_bar=True)"
   ],
   "id": "9d4e266567f512b",
   "outputs": [
    {
     "name": "stderr",
     "output_type": "stream",
     "text": [
      "Batches: 100%|██████████| 982/982 [00:20<00:00, 46.78it/s]\n",
      "Batches: 100%|██████████| 86/86 [00:01<00:00, 66.27it/s]\n",
      "Batches: 100%|██████████| 312/312 [00:05<00:00, 60.47it/s]\n"
     ]
    }
   ],
   "execution_count": 38
  },
  {
   "metadata": {},
   "cell_type": "markdown",
   "source": "## Applying and evaluating models",
   "id": "41b70313b6fdb1e"
  },
  {
   "metadata": {},
   "cell_type": "markdown",
   "source": "### Naive Bayes Model",
   "id": "b43ba8b6c93a60ca"
  },
  {
   "cell_type": "code",
   "id": "4cd044eb",
   "metadata": {
    "ExecuteTime": {
     "end_time": "2025-10-31T09:41:36.171890Z",
     "start_time": "2025-10-31T09:41:35.962057Z"
    }
   },
   "source": [
    "# Preprocessing setup 1: calc tf-idf on lemmatized data\n",
    "model_nb1 = model_naives_bayes(tfidf_matrix_train, data_train['label'], tfidf_matrix_val, data_val['label'])\n"
   ],
   "outputs": [
    {
     "name": "stdout",
     "output_type": "stream",
     "text": [
      "Train Accuracy:1.00\n",
      "\n",
      "Validation Accuracy: 0.94\n",
      "\n",
      "classification_report:\n",
      "               precision    recall  f1-score   support\n",
      "\n",
      "           0     0.9390    0.9531    0.9460      1406\n",
      "           1     0.9495    0.9344    0.9419      1327\n",
      "\n",
      "    accuracy                         0.9440      2733\n",
      "   macro avg     0.9442    0.9437    0.9439      2733\n",
      "weighted avg     0.9441    0.9440    0.9440      2733\n",
      "\n"
     ]
    }
   ],
   "execution_count": 18
  },
  {
   "metadata": {
    "ExecuteTime": {
     "end_time": "2025-10-31T09:41:42.003521Z",
     "start_time": "2025-10-31T09:41:41.626Z"
    }
   },
   "cell_type": "code",
   "source": [
    "# Preprocessing setup 2: tf-idf only\n",
    "model_nb2 = model_naives_bayes(X_train_tfidf, data_train['label'], X_val_tfidf, data_val['label'])\n"
   ],
   "id": "219d6c9042444fa7",
   "outputs": [
    {
     "name": "stdout",
     "output_type": "stream",
     "text": [
      "Train Accuracy:1.00\n",
      "\n",
      "Validation Accuracy: 0.95\n",
      "\n",
      "classification_report:\n",
      "               precision    recall  f1-score   support\n",
      "\n",
      "           0     0.9383    0.9623    0.9501      1406\n",
      "           1     0.9589    0.9329    0.9458      1327\n",
      "\n",
      "    accuracy                         0.9480      2733\n",
      "   macro avg     0.9486    0.9476    0.9480      2733\n",
      "weighted avg     0.9483    0.9480    0.9480      2733\n",
      "\n"
     ]
    }
   ],
   "execution_count": 19
  },
  {
   "metadata": {
    "ExecuteTime": {
     "end_time": "2025-10-31T09:41:45.347925Z",
     "start_time": "2025-10-31T09:41:45.055587Z"
    }
   },
   "cell_type": "code",
   "source": [
    "# Preprocessing setup 3: tf-idf removing stopwords\n",
    "model_nb3 = model_naives_bayes(X_train_tfidf3, data_train['label'], X_val_tfidf3, data_val['label'])\n"
   ],
   "id": "1f5d143b4ed1ed1b",
   "outputs": [
    {
     "name": "stdout",
     "output_type": "stream",
     "text": [
      "Train Accuracy:1.00\n",
      "\n",
      "Validation Accuracy: 0.94\n",
      "\n",
      "classification_report:\n",
      "               precision    recall  f1-score   support\n",
      "\n",
      "           0     0.9350    0.9516    0.9432      1406\n",
      "           1     0.9478    0.9299    0.9388      1327\n",
      "\n",
      "    accuracy                         0.9411      2733\n",
      "   macro avg     0.9414    0.9408    0.9410      2733\n",
      "weighted avg     0.9412    0.9411    0.9411      2733\n",
      "\n"
     ]
    }
   ],
   "execution_count": 20
  },
  {
   "metadata": {
    "ExecuteTime": {
     "end_time": "2025-10-31T11:44:49.130525Z",
     "start_time": "2025-10-31T11:44:49.127862Z"
    }
   },
   "cell_type": "code",
   "source": [
    "\"\"\"\n",
    "Naive Bayes isn’t ideal for embeddings (it expects non-negative word frequencies) so we are skipping this setup.\n",
    "\"\"\"\n",
    "# Preprocessing setup 4: Embeddings\n",
    "#model_nb4 = model_naives_bayes(X_train_emb, data_train['label'], X_val_emb, data_val['label'])"
   ],
   "id": "d6605ce446fa47b5",
   "outputs": [],
   "execution_count": 61
  },
  {
   "metadata": {},
   "cell_type": "markdown",
   "source": "### XGBoost",
   "id": "25ed7078ff3ee747"
  },
  {
   "cell_type": "code",
   "id": "f9598bda",
   "metadata": {
    "ExecuteTime": {
     "end_time": "2025-10-31T09:42:58.207328Z",
     "start_time": "2025-10-31T09:42:12.075230Z"
    }
   },
   "source": [
    "# XGBoost Setup 1\n",
    "model_xgb1 = model_xgboost(tfidf_matrix_train, data_train['label'], tfidf_matrix_val, data_val['label'])"
   ],
   "outputs": [
    {
     "name": "stdout",
     "output_type": "stream",
     "text": [
      "Train Accuracy: 0.90\n",
      "\n",
      "Validation Accuracy: 0.84\n",
      "\n",
      "Classification Report:\n",
      "               precision    recall  f1-score   support\n",
      "\n",
      "           0     0.8827    0.7973    0.8378      1406\n",
      "           1     0.8052    0.8877    0.8444      1327\n",
      "\n",
      "    accuracy                         0.8412      2733\n",
      "   macro avg     0.8439    0.8425    0.8411      2733\n",
      "weighted avg     0.8451    0.8412    0.8410      2733\n",
      "\n"
     ]
    }
   ],
   "execution_count": 21
  },
  {
   "metadata": {
    "ExecuteTime": {
     "end_time": "2025-10-31T09:44:35.929777Z",
     "start_time": "2025-10-31T09:42:58.214144Z"
    }
   },
   "cell_type": "code",
   "source": [
    "# XGBoost Setup 2\n",
    "model_xgb2 = model_xgboost(X_train_tfidf, data_train['label'], X_val_tfidf, data_val['label'])"
   ],
   "id": "bdea9b81afa2fb5d",
   "outputs": [
    {
     "name": "stdout",
     "output_type": "stream",
     "text": [
      "Train Accuracy: 0.93\n",
      "\n",
      "Validation Accuracy: 0.83\n",
      "\n",
      "Classification Report:\n",
      "               precision    recall  f1-score   support\n",
      "\n",
      "           0     0.8162    0.8620    0.8385      1406\n",
      "           1     0.8446    0.7943    0.8186      1327\n",
      "\n",
      "    accuracy                         0.8291      2733\n",
      "   macro avg     0.8304    0.8281    0.8286      2733\n",
      "weighted avg     0.8299    0.8291    0.8288      2733\n",
      "\n"
     ]
    }
   ],
   "execution_count": 22
  },
  {
   "metadata": {
    "ExecuteTime": {
     "end_time": "2025-10-31T09:45:54.735141Z",
     "start_time": "2025-10-31T09:44:35.957325Z"
    }
   },
   "cell_type": "code",
   "source": [
    "# XGBoost Setup 3\n",
    "model_xgb3 = model_xgboost(X_train_tfidf3, data_train['label'], X_val_tfidf3, data_val['label'])"
   ],
   "id": "cc89239995790fe5",
   "outputs": [
    {
     "name": "stdout",
     "output_type": "stream",
     "text": [
      "Train Accuracy: 0.90\n",
      "\n",
      "Validation Accuracy: 0.82\n",
      "\n",
      "Classification Report:\n",
      "               precision    recall  f1-score   support\n",
      "\n",
      "           0     0.8192    0.8378    0.8284      1406\n",
      "           1     0.8239    0.8041    0.8139      1327\n",
      "\n",
      "    accuracy                         0.8214      2733\n",
      "   macro avg     0.8216    0.8210    0.8211      2733\n",
      "weighted avg     0.8215    0.8214    0.8214      2733\n",
      "\n"
     ]
    }
   ],
   "execution_count": 23
  },
  {
   "metadata": {
    "ExecuteTime": {
     "end_time": "2025-10-31T11:19:12.580916Z",
     "start_time": "2025-10-31T11:18:43.587880Z"
    }
   },
   "cell_type": "code",
   "source": [
    "# Preprocessing setup 4: Embeddings\n",
    "model_xgb4 = model_xgboost(X_train_emb, data_train['label'], X_val_emb, data_val['label'])"
   ],
   "id": "afffbc41a60c7392",
   "outputs": [
    {
     "name": "stdout",
     "output_type": "stream",
     "text": [
      "Train Accuracy: 0.99\n",
      "\n",
      "Validation Accuracy: 0.93\n",
      "\n",
      "Classification Report:\n",
      "               precision    recall  f1-score   support\n",
      "\n",
      "           0     0.9510    0.9118    0.9310      1406\n",
      "           1     0.9105    0.9503    0.9299      1327\n",
      "\n",
      "    accuracy                         0.9305      2733\n",
      "   macro avg     0.9308    0.9310    0.9305      2733\n",
      "weighted avg     0.9313    0.9305    0.9305      2733\n",
      "\n"
     ]
    }
   ],
   "execution_count": 40
  },
  {
   "metadata": {},
   "cell_type": "markdown",
   "source": "### Random Forest",
   "id": "75fb345d81687515"
  },
  {
   "cell_type": "code",
   "id": "b23ef3f15eb1c81d",
   "metadata": {
    "ExecuteTime": {
     "end_time": "2025-10-31T09:46:26.033482Z",
     "start_time": "2025-10-31T09:45:54.767270Z"
    }
   },
   "source": [
    "# Random Forest setup 1\n",
    "model_rf1 = model_rf_train(tfidf_matrix_train, tfidf_matrix_val, data_train['label'], data_val['label'])"
   ],
   "outputs": [
    {
     "name": "stdout",
     "output_type": "stream",
     "text": [
      "Train Accuracy: 100.00%\n",
      "Random forest model\n",
      "accuracy: 0.9063300402488108\n",
      "Classification report:\n",
      "               precision    recall  f1-score   support\n",
      "\n",
      "           0       0.91      0.90      0.91      1406\n",
      "           1       0.90      0.91      0.90      1327\n",
      "\n",
      "    accuracy                           0.91      2733\n",
      "   macro avg       0.91      0.91      0.91      2733\n",
      "weighted avg       0.91      0.91      0.91      2733\n",
      "\n"
     ]
    }
   ],
   "execution_count": 24
  },
  {
   "metadata": {
    "ExecuteTime": {
     "end_time": "2025-10-31T09:47:12.858120Z",
     "start_time": "2025-10-31T09:46:26.063997Z"
    }
   },
   "cell_type": "code",
   "source": [
    "# Random Forest setup 2\n",
    "model_rf2 = model_rf_train(X_train_tfidf, X_val_tfidf, data_train['label'], data_val['label'])"
   ],
   "id": "ca7ac01df85909fa",
   "outputs": [
    {
     "name": "stdout",
     "output_type": "stream",
     "text": [
      "Train Accuracy: 100.00%\n",
      "Random forest model\n",
      "accuracy: 0.9085254299304794\n",
      "Classification report:\n",
      "               precision    recall  f1-score   support\n",
      "\n",
      "           0       0.93      0.89      0.91      1406\n",
      "           1       0.89      0.93      0.91      1327\n",
      "\n",
      "    accuracy                           0.91      2733\n",
      "   macro avg       0.91      0.91      0.91      2733\n",
      "weighted avg       0.91      0.91      0.91      2733\n",
      "\n"
     ]
    }
   ],
   "execution_count": 25
  },
  {
   "metadata": {
    "ExecuteTime": {
     "end_time": "2025-10-31T09:48:03.717014Z",
     "start_time": "2025-10-31T09:47:12.870557Z"
    }
   },
   "cell_type": "code",
   "source": [
    "# Random Forest setup 2\n",
    "model_rf3 = model_rf_train(X_train_tfidf3, X_val_tfidf3, data_train['label'], data_val['label'])"
   ],
   "id": "49e14d6a9c1cc376",
   "outputs": [
    {
     "name": "stdout",
     "output_type": "stream",
     "text": [
      "Train Accuracy: 100.00%\n",
      "Random forest model\n",
      "accuracy: 0.9008415660446396\n",
      "Classification report:\n",
      "               precision    recall  f1-score   support\n",
      "\n",
      "           0       0.89      0.93      0.91      1406\n",
      "           1       0.92      0.87      0.90      1327\n",
      "\n",
      "    accuracy                           0.90      2733\n",
      "   macro avg       0.90      0.90      0.90      2733\n",
      "weighted avg       0.90      0.90      0.90      2733\n",
      "\n"
     ]
    }
   ],
   "execution_count": 26
  },
  {
   "metadata": {
    "ExecuteTime": {
     "end_time": "2025-10-31T11:38:57.563018Z",
     "start_time": "2025-10-31T11:38:57.560854Z"
    }
   },
   "cell_type": "code",
   "source": [
    "# Preprocessing setup 4: Embeddings\n",
    "#model_rf4 = model_rf_train(X_train_emb, data_train['label'], X_val_emb, data_val['label'])"
   ],
   "id": "89e5e0a85456ceb2",
   "outputs": [],
   "execution_count": 59
  },
  {
   "cell_type": "code",
   "execution_count": 8,
   "id": "f2331bfb50cff074",
   "metadata": {},
   "outputs": [],
   "source": [
    "# Multinomial Naive Bayes (MultinomialNB) classifier\n",
    "#model_mnb = model_multinominalNB_train(data_train['lemmatized_text'], data_val['lemmatized_text'], data_train['label'], data_val['label'])\n"
   ]
  },
  {
   "metadata": {},
   "cell_type": "markdown",
   "source": "### Logistic Regression",
   "id": "b654334cd2c184ca"
  },
  {
   "cell_type": "code",
   "id": "3d03646ca8316264",
   "metadata": {
    "ExecuteTime": {
     "end_time": "2025-10-31T09:48:03.852461Z",
     "start_time": "2025-10-31T09:48:03.731158Z"
    }
   },
   "source": [
    "#Logistic Regression setup1\n",
    "model_lr1 = model_logistic_regression(tfidf_matrix_train, data_train['label'], tfidf_matrix_val, data_val['label'])"
   ],
   "outputs": [
    {
     "name": "stdout",
     "output_type": "stream",
     "text": [
      "\n",
      "Train Accuracy: 96.91%\n",
      "\n",
      "Validation Accuracy: 93.27%\n",
      "\n",
      "Classification Report:\n",
      "               precision    recall  f1-score   support\n",
      "\n",
      "           0       0.94      0.92      0.93      1406\n",
      "           1       0.92      0.94      0.93      1327\n",
      "\n",
      "    accuracy                           0.93      2733\n",
      "   macro avg       0.93      0.93      0.93      2733\n",
      "weighted avg       0.93      0.93      0.93      2733\n",
      "\n"
     ]
    }
   ],
   "execution_count": 27
  },
  {
   "metadata": {
    "ExecuteTime": {
     "end_time": "2025-10-31T09:48:04.316170Z",
     "start_time": "2025-10-31T09:48:03.862486Z"
    }
   },
   "cell_type": "code",
   "source": [
    "#Logistic Regression setup2\n",
    "model_lr2 = model_logistic_regression(X_train_tfidf, data_train['label'], X_val_tfidf, data_val['label'])"
   ],
   "id": "3d4db638a9b19be2",
   "outputs": [
    {
     "name": "stdout",
     "output_type": "stream",
     "text": [
      "\n",
      "Train Accuracy: 97.62%\n",
      "\n",
      "Validation Accuracy: 94.04%\n",
      "\n",
      "Classification Report:\n",
      "               precision    recall  f1-score   support\n",
      "\n",
      "           0       0.94      0.94      0.94      1406\n",
      "           1       0.94      0.94      0.94      1327\n",
      "\n",
      "    accuracy                           0.94      2733\n",
      "   macro avg       0.94      0.94      0.94      2733\n",
      "weighted avg       0.94      0.94      0.94      2733\n",
      "\n"
     ]
    }
   ],
   "execution_count": 28
  },
  {
   "metadata": {
    "ExecuteTime": {
     "end_time": "2025-10-31T09:48:04.527210Z",
     "start_time": "2025-10-31T09:48:04.325562Z"
    }
   },
   "cell_type": "code",
   "source": [
    "#Logistic Regression setup3\n",
    "model_lr3 = model_logistic_regression(X_train_tfidf3, data_train['label'], X_val_tfidf3, data_val['label'])"
   ],
   "id": "20f111e90af74d30",
   "outputs": [
    {
     "name": "stdout",
     "output_type": "stream",
     "text": [
      "\n",
      "Train Accuracy: 97.54%\n",
      "\n",
      "Validation Accuracy: 92.54%\n",
      "\n",
      "Classification Report:\n",
      "               precision    recall  f1-score   support\n",
      "\n",
      "           0       0.94      0.92      0.93      1406\n",
      "           1       0.91      0.94      0.92      1327\n",
      "\n",
      "    accuracy                           0.93      2733\n",
      "   macro avg       0.93      0.93      0.93      2733\n",
      "weighted avg       0.93      0.93      0.93      2733\n",
      "\n"
     ]
    }
   ],
   "execution_count": 29
  },
  {
   "metadata": {
    "ExecuteTime": {
     "end_time": "2025-10-31T11:24:39.236268Z",
     "start_time": "2025-10-31T11:24:38.906707Z"
    }
   },
   "cell_type": "code",
   "source": [
    "# Preprocessing setup 4: Embeddings\n",
    "model_lr4 = model_logistic_regression(X_train_emb, data_train['label'], X_val_emb, data_val['label'])"
   ],
   "id": "ec251c76fdff9fc4",
   "outputs": [
    {
     "name": "stdout",
     "output_type": "stream",
     "text": [
      "\n",
      "Train Accuracy: 92.98%\n",
      "\n",
      "Validation Accuracy: 92.61%\n",
      "\n",
      "Classification Report:\n",
      "               precision    recall  f1-score   support\n",
      "\n",
      "           0       0.95      0.90      0.93      1406\n",
      "           1       0.90      0.95      0.93      1327\n",
      "\n",
      "    accuracy                           0.93      2733\n",
      "   macro avg       0.93      0.93      0.93      2733\n",
      "weighted avg       0.93      0.93      0.93      2733\n",
      "\n"
     ]
    }
   ],
   "execution_count": 43
  },
  {
   "metadata": {},
   "cell_type": "markdown",
   "source": "### Simple Feedforward Neural Network",
   "id": "b4aecc62ae18e426"
  },
  {
   "metadata": {
    "ExecuteTime": {
     "end_time": "2025-10-31T10:19:04.879220Z",
     "start_time": "2025-10-31T10:16:56.521556Z"
    }
   },
   "cell_type": "code",
   "source": [
    "# Simple Feedforward NN with preprocessing setup1\n",
    "model_sfnn1 = model_sfnn_train(tfidf_matrix_train, data_train['label'], tfidf_matrix_val, data_val['label'])\n"
   ],
   "id": "2a64eaeae59e53a7",
   "outputs": [
    {
     "name": "stdout",
     "output_type": "stream",
     "text": [
      "Epoch 1/20\n"
     ]
    },
    {
     "name": "stderr",
     "output_type": "stream",
     "text": [
      "/Library/Frameworks/Python.framework/Versions/3.13/lib/python3.13/site-packages/keras/src/layers/core/dense.py:92: UserWarning: Do not pass an `input_shape`/`input_dim` argument to a layer. When using Sequential models, prefer using an `Input(shape)` object as the first layer in the model instead.\n",
      "  super().__init__(activity_regularizer=activity_regularizer, **kwargs)\n"
     ]
    },
    {
     "name": "stdout",
     "output_type": "stream",
     "text": [
      "\u001B[1m246/246\u001B[0m \u001B[32m━━━━━━━━━━━━━━━━━━━━\u001B[0m\u001B[37m\u001B[0m \u001B[1m2s\u001B[0m 7ms/step - accuracy: 0.8606 - loss: 0.3232 - val_accuracy: 0.9290 - val_loss: 0.1884\n",
      "Epoch 2/20\n",
      "\u001B[1m246/246\u001B[0m \u001B[32m━━━━━━━━━━━━━━━━━━━━\u001B[0m\u001B[37m\u001B[0m \u001B[1m2s\u001B[0m 7ms/step - accuracy: 0.9380 - loss: 0.1592 - val_accuracy: 0.9327 - val_loss: 0.1737\n",
      "Epoch 3/20\n",
      "\u001B[1m246/246\u001B[0m \u001B[32m━━━━━━━━━━━━━━━━━━━━\u001B[0m\u001B[37m\u001B[0m \u001B[1m2s\u001B[0m 7ms/step - accuracy: 0.9522 - loss: 0.1225 - val_accuracy: 0.9356 - val_loss: 0.1793\n",
      "Epoch 4/20\n",
      "\u001B[1m246/246\u001B[0m \u001B[32m━━━━━━━━━━━━━━━━━━━━\u001B[0m\u001B[37m\u001B[0m \u001B[1m2s\u001B[0m 7ms/step - accuracy: 0.9676 - loss: 0.0882 - val_accuracy: 0.9341 - val_loss: 0.1864\n",
      "Epoch 5/20\n",
      "\u001B[1m246/246\u001B[0m \u001B[32m━━━━━━━━━━━━━━━━━━━━\u001B[0m\u001B[37m\u001B[0m \u001B[1m2s\u001B[0m 7ms/step - accuracy: 0.9810 - loss: 0.0584 - val_accuracy: 0.9393 - val_loss: 0.2043\n",
      "Epoch 6/20\n",
      "\u001B[1m246/246\u001B[0m \u001B[32m━━━━━━━━━━━━━━━━━━━━\u001B[0m\u001B[37m\u001B[0m \u001B[1m2s\u001B[0m 7ms/step - accuracy: 0.9869 - loss: 0.0402 - val_accuracy: 0.9371 - val_loss: 0.2254\n",
      "Epoch 7/20\n",
      "\u001B[1m246/246\u001B[0m \u001B[32m━━━━━━━━━━━━━━━━━━━━\u001B[0m\u001B[37m\u001B[0m \u001B[1m2s\u001B[0m 7ms/step - accuracy: 0.9903 - loss: 0.0322 - val_accuracy: 0.9356 - val_loss: 0.2608\n",
      "\u001B[1m982/982\u001B[0m \u001B[32m━━━━━━━━━━━━━━━━━━━━\u001B[0m\u001B[37m\u001B[0m \u001B[1m1s\u001B[0m 1ms/step\n",
      "\u001B[1m86/86\u001B[0m \u001B[32m━━━━━━━━━━━━━━━━━━━━\u001B[0m\u001B[37m\u001B[0m \u001B[1m0s\u001B[0m 1ms/step  \n",
      "Train Accuracy: 96.55%\n",
      "Validation Accuracy: 93.27%\n",
      "Validation Classification Report:\n",
      "               precision    recall  f1-score   support\n",
      "\n",
      "           0       0.94      0.93      0.93      1406\n",
      "           1       0.93      0.93      0.93      1327\n",
      "\n",
      "    accuracy                           0.93      2733\n",
      "   macro avg       0.93      0.93      0.93      2733\n",
      "weighted avg       0.93      0.93      0.93      2733\n",
      "\n"
     ]
    }
   ],
   "execution_count": 33
  },
  {
   "metadata": {
    "ExecuteTime": {
     "end_time": "2025-10-31T10:16:56.504846Z",
     "start_time": "2025-10-31T10:02:26.181571Z"
    }
   },
   "cell_type": "code",
   "source": [
    "# Simple Feedforward NN with preprocessing setup2\n",
    "model_sfnn2 = model_sfnn_train(X_train_tfidf, data_train['label'], X_val_tfidf, data_val['label'])"
   ],
   "id": "9908ae86e5f24549",
   "outputs": [
    {
     "name": "stderr",
     "output_type": "stream",
     "text": [
      "/Library/Frameworks/Python.framework/Versions/3.13/lib/python3.13/site-packages/keras/src/layers/core/dense.py:92: UserWarning: Do not pass an `input_shape`/`input_dim` argument to a layer. When using Sequential models, prefer using an `Input(shape)` object as the first layer in the model instead.\n",
      "  super().__init__(activity_regularizer=activity_regularizer, **kwargs)\n"
     ]
    },
    {
     "name": "stdout",
     "output_type": "stream",
     "text": [
      "Epoch 1/20\n",
      "\u001B[1m246/246\u001B[0m \u001B[32m━━━━━━━━━━━━━━━━━━━━\u001B[0m\u001B[37m\u001B[0m \u001B[1m2s\u001B[0m 5ms/step - accuracy: 0.8642 - loss: 0.3097 - val_accuracy: 0.9404 - val_loss: 0.1570\n",
      "Epoch 2/20\n",
      "\u001B[1m246/246\u001B[0m \u001B[32m━━━━━━━━━━━━━━━━━━━━\u001B[0m\u001B[37m\u001B[0m \u001B[1m1s\u001B[0m 6ms/step - accuracy: 0.9472 - loss: 0.1378 - val_accuracy: 0.9447 - val_loss: 0.1581\n",
      "Epoch 3/20\n",
      "\u001B[1m246/246\u001B[0m \u001B[32m━━━━━━━━━━━━━━━━━━━━\u001B[0m\u001B[37m\u001B[0m \u001B[1m1s\u001B[0m 5ms/step - accuracy: 0.9591 - loss: 0.1082 - val_accuracy: 0.9477 - val_loss: 0.1577\n",
      "Epoch 4/20\n",
      "\u001B[1m246/246\u001B[0m \u001B[32m━━━━━━━━━━━━━━━━━━━━\u001B[0m\u001B[37m\u001B[0m \u001B[1m1s\u001B[0m 5ms/step - accuracy: 0.9722 - loss: 0.0777 - val_accuracy: 0.9437 - val_loss: 0.1796\n",
      "Epoch 5/20\n",
      "\u001B[1m246/246\u001B[0m \u001B[32m━━━━━━━━━━━━━━━━━━━━\u001B[0m\u001B[37m\u001B[0m \u001B[1m2s\u001B[0m 7ms/step - accuracy: 0.9812 - loss: 0.0564 - val_accuracy: 0.9480 - val_loss: 0.1836\n",
      "Epoch 6/20\n",
      "\u001B[1m246/246\u001B[0m \u001B[32m━━━━━━━━━━━━━━━━━━━━\u001B[0m\u001B[37m\u001B[0m \u001B[1m2s\u001B[0m 8ms/step - accuracy: 0.9870 - loss: 0.0399 - val_accuracy: 0.9477 - val_loss: 0.2092\n",
      "\u001B[1m982/982\u001B[0m \u001B[32m━━━━━━━━━━━━━━━━━━━━\u001B[0m\u001B[37m\u001B[0m \u001B[1m1s\u001B[0m 1ms/step\n",
      "\u001B[1m86/86\u001B[0m \u001B[32m━━━━━━━━━━━━━━━━━━━━\u001B[0m\u001B[37m\u001B[0m \u001B[1m0s\u001B[0m 1ms/step\n",
      "Train Accuracy: 95.78%\n",
      "Validation Accuracy: 94.04%\n",
      "Validation Classification Report:\n",
      "               precision    recall  f1-score   support\n",
      "\n",
      "           0       0.94      0.94      0.94      1406\n",
      "           1       0.94      0.94      0.94      1327\n",
      "\n",
      "    accuracy                           0.94      2733\n",
      "   macro avg       0.94      0.94      0.94      2733\n",
      "weighted avg       0.94      0.94      0.94      2733\n",
      "\n"
     ]
    }
   ],
   "execution_count": 32
  },
  {
   "metadata": {
    "ExecuteTime": {
     "end_time": "2025-10-31T11:30:52.871096Z",
     "start_time": "2025-10-31T11:25:59.166078Z"
    }
   },
   "cell_type": "code",
   "source": [
    "# Simple Feedforward NN with preprocessing setup2\n",
    "model_sfnn3 = model_sfnn_train(X_train_tfidf3, data_train['label'], X_val_tfidf3, data_val['label'])"
   ],
   "id": "d860471b6fea2b32",
   "outputs": [
    {
     "name": "stderr",
     "output_type": "stream",
     "text": [
      "/Library/Frameworks/Python.framework/Versions/3.13/lib/python3.13/site-packages/keras/src/layers/core/dense.py:92: UserWarning: Do not pass an `input_shape`/`input_dim` argument to a layer. When using Sequential models, prefer using an `Input(shape)` object as the first layer in the model instead.\n",
      "  super().__init__(activity_regularizer=activity_regularizer, **kwargs)\n"
     ]
    },
    {
     "name": "stdout",
     "output_type": "stream",
     "text": [
      "Epoch 1/20\n",
      "\u001B[1m246/246\u001B[0m \u001B[32m━━━━━━━━━━━━━━━━━━━━\u001B[0m\u001B[37m\u001B[0m \u001B[1m2s\u001B[0m 4ms/step - accuracy: 0.8497 - loss: 0.3273 - val_accuracy: 0.9246 - val_loss: 0.1910\n",
      "Epoch 2/20\n",
      "\u001B[1m246/246\u001B[0m \u001B[32m━━━━━━━━━━━━━━━━━━━━\u001B[0m\u001B[37m\u001B[0m \u001B[1m1s\u001B[0m 4ms/step - accuracy: 0.9378 - loss: 0.1585 - val_accuracy: 0.9272 - val_loss: 0.1877\n",
      "Epoch 3/20\n",
      "\u001B[1m246/246\u001B[0m \u001B[32m━━━━━━━━━━━━━━━━━━━━\u001B[0m\u001B[37m\u001B[0m \u001B[1m1s\u001B[0m 4ms/step - accuracy: 0.9515 - loss: 0.1238 - val_accuracy: 0.9330 - val_loss: 0.1865\n",
      "Epoch 4/20\n",
      "\u001B[1m246/246\u001B[0m \u001B[32m━━━━━━━━━━━━━━━━━━━━\u001B[0m\u001B[37m\u001B[0m \u001B[1m1s\u001B[0m 4ms/step - accuracy: 0.9665 - loss: 0.0926 - val_accuracy: 0.9330 - val_loss: 0.2103\n",
      "Epoch 5/20\n",
      "\u001B[1m246/246\u001B[0m \u001B[32m━━━━━━━━━━━━━━━━━━━━\u001B[0m\u001B[37m\u001B[0m \u001B[1m1s\u001B[0m 4ms/step - accuracy: 0.9766 - loss: 0.0665 - val_accuracy: 0.9330 - val_loss: 0.2321\n",
      "Epoch 6/20\n",
      "\u001B[1m246/246\u001B[0m \u001B[32m━━━━━━━━━━━━━━━━━━━━\u001B[0m\u001B[37m\u001B[0m \u001B[1m1s\u001B[0m 4ms/step - accuracy: 0.9837 - loss: 0.0485 - val_accuracy: 0.9378 - val_loss: 0.2558\n",
      "Epoch 7/20\n",
      "\u001B[1m246/246\u001B[0m \u001B[32m━━━━━━━━━━━━━━━━━━━━\u001B[0m\u001B[37m\u001B[0m \u001B[1m1s\u001B[0m 4ms/step - accuracy: 0.9886 - loss: 0.0368 - val_accuracy: 0.9349 - val_loss: 0.2769\n",
      "Epoch 8/20\n",
      "\u001B[1m246/246\u001B[0m \u001B[32m━━━━━━━━━━━━━━━━━━━━\u001B[0m\u001B[37m\u001B[0m \u001B[1m1s\u001B[0m 4ms/step - accuracy: 0.9908 - loss: 0.0298 - val_accuracy: 0.9323 - val_loss: 0.3151\n",
      "\u001B[1m982/982\u001B[0m \u001B[32m━━━━━━━━━━━━━━━━━━━━\u001B[0m\u001B[37m\u001B[0m \u001B[1m1s\u001B[0m 573us/step\n",
      "\u001B[1m86/86\u001B[0m \u001B[32m━━━━━━━━━━━━━━━━━━━━\u001B[0m\u001B[37m\u001B[0m \u001B[1m0s\u001B[0m 598us/step\n",
      "Train Accuracy: 97.55%\n",
      "Validation Accuracy: 93.30%\n",
      "Validation Classification Report:\n",
      "               precision    recall  f1-score   support\n",
      "\n",
      "           0       0.94      0.93      0.93      1406\n",
      "           1       0.93      0.94      0.93      1327\n",
      "\n",
      "    accuracy                           0.93      2733\n",
      "   macro avg       0.93      0.93      0.93      2733\n",
      "weighted avg       0.93      0.93      0.93      2733\n",
      "\n"
     ]
    }
   ],
   "execution_count": 53
  },
  {
   "metadata": {
    "ExecuteTime": {
     "end_time": "2025-10-31T11:42:19.095634Z",
     "start_time": "2025-10-31T11:42:14.351679Z"
    }
   },
   "cell_type": "code",
   "source": [
    "# Preprocessing setup 4: Embeddings\n",
    "# You can’t project to 2000 components from 384 — it’s asking for more dimensions than exist.\n",
    "model_sfnn4 = model_sfnn_train(X_train_emb, data_train['label'], X_val_emb, data_val['label'], n_components=128)"
   ],
   "id": "2dcb8da6cae1c074",
   "outputs": [
    {
     "name": "stdout",
     "output_type": "stream",
     "text": [
      "Epoch 1/20\n"
     ]
    },
    {
     "name": "stderr",
     "output_type": "stream",
     "text": [
      "/Library/Frameworks/Python.framework/Versions/3.13/lib/python3.13/site-packages/keras/src/layers/core/dense.py:92: UserWarning: Do not pass an `input_shape`/`input_dim` argument to a layer. When using Sequential models, prefer using an `Input(shape)` object as the first layer in the model instead.\n",
      "  super().__init__(activity_regularizer=activity_regularizer, **kwargs)\n"
     ]
    },
    {
     "name": "stdout",
     "output_type": "stream",
     "text": [
      "\u001B[1m246/246\u001B[0m \u001B[32m━━━━━━━━━━━━━━━━━━━━\u001B[0m\u001B[37m\u001B[0m \u001B[1m1s\u001B[0m 2ms/step - accuracy: 0.8890 - loss: 0.2772 - val_accuracy: 0.9111 - val_loss: 0.2032\n",
      "Epoch 2/20\n",
      "\u001B[1m246/246\u001B[0m \u001B[32m━━━━━━━━━━━━━━━━━━━━\u001B[0m\u001B[37m\u001B[0m \u001B[1m0s\u001B[0m 1ms/step - accuracy: 0.9218 - loss: 0.1926 - val_accuracy: 0.9246 - val_loss: 0.1811\n",
      "Epoch 3/20\n",
      "\u001B[1m246/246\u001B[0m \u001B[32m━━━━━━━━━━━━━━━━━━━━\u001B[0m\u001B[37m\u001B[0m \u001B[1m0s\u001B[0m 1ms/step - accuracy: 0.9324 - loss: 0.1684 - val_accuracy: 0.9286 - val_loss: 0.1733\n",
      "Epoch 4/20\n",
      "\u001B[1m246/246\u001B[0m \u001B[32m━━━━━━━━━━━━━━━━━━━━\u001B[0m\u001B[37m\u001B[0m \u001B[1m0s\u001B[0m 1ms/step - accuracy: 0.9415 - loss: 0.1495 - val_accuracy: 0.9371 - val_loss: 0.1639\n",
      "Epoch 5/20\n",
      "\u001B[1m246/246\u001B[0m \u001B[32m━━━━━━━━━━━━━━━━━━━━\u001B[0m\u001B[37m\u001B[0m \u001B[1m0s\u001B[0m 1ms/step - accuracy: 0.9479 - loss: 0.1332 - val_accuracy: 0.9349 - val_loss: 0.1668\n",
      "Epoch 6/20\n",
      "\u001B[1m246/246\u001B[0m \u001B[32m━━━━━━━━━━━━━━━━━━━━\u001B[0m\u001B[37m\u001B[0m \u001B[1m0s\u001B[0m 1ms/step - accuracy: 0.9541 - loss: 0.1204 - val_accuracy: 0.9393 - val_loss: 0.1615\n",
      "Epoch 7/20\n",
      "\u001B[1m246/246\u001B[0m \u001B[32m━━━━━━━━━━━━━━━━━━━━\u001B[0m\u001B[37m\u001B[0m \u001B[1m0s\u001B[0m 1ms/step - accuracy: 0.9578 - loss: 0.1101 - val_accuracy: 0.9367 - val_loss: 0.1707\n",
      "Epoch 8/20\n",
      "\u001B[1m246/246\u001B[0m \u001B[32m━━━━━━━━━━━━━━━━━━━━\u001B[0m\u001B[37m\u001B[0m \u001B[1m0s\u001B[0m 1ms/step - accuracy: 0.9630 - loss: 0.0987 - val_accuracy: 0.9378 - val_loss: 0.1697\n",
      "Epoch 9/20\n",
      "\u001B[1m246/246\u001B[0m \u001B[32m━━━━━━━━━━━━━━━━━━━━\u001B[0m\u001B[37m\u001B[0m \u001B[1m0s\u001B[0m 1ms/step - accuracy: 0.9653 - loss: 0.0914 - val_accuracy: 0.9345 - val_loss: 0.1718\n",
      "Epoch 10/20\n",
      "\u001B[1m246/246\u001B[0m \u001B[32m━━━━━━━━━━━━━━━━━━━━\u001B[0m\u001B[37m\u001B[0m \u001B[1m0s\u001B[0m 1ms/step - accuracy: 0.9686 - loss: 0.0821 - val_accuracy: 0.9363 - val_loss: 0.1809\n",
      "Epoch 11/20\n",
      "\u001B[1m246/246\u001B[0m \u001B[32m━━━━━━━━━━━━━━━━━━━━\u001B[0m\u001B[37m\u001B[0m \u001B[1m0s\u001B[0m 1ms/step - accuracy: 0.9696 - loss: 0.0775 - val_accuracy: 0.9330 - val_loss: 0.1839\n",
      "\u001B[1m982/982\u001B[0m \u001B[32m━━━━━━━━━━━━━━━━━━━━\u001B[0m\u001B[37m\u001B[0m \u001B[1m0s\u001B[0m 266us/step\n",
      "\u001B[1m86/86\u001B[0m \u001B[32m━━━━━━━━━━━━━━━━━━━━\u001B[0m\u001B[37m\u001B[0m \u001B[1m0s\u001B[0m 310us/step\n",
      "Train Accuracy: 97.23%\n",
      "Validation Accuracy: 93.93%\n",
      "Validation Classification Report:\n",
      "               precision    recall  f1-score   support\n",
      "\n",
      "           0       0.95      0.93      0.94      1406\n",
      "           1       0.93      0.95      0.94      1327\n",
      "\n",
      "    accuracy                           0.94      2733\n",
      "   macro avg       0.94      0.94      0.94      2733\n",
      "weighted avg       0.94      0.94      0.94      2733\n",
      "\n"
     ]
    }
   ],
   "execution_count": 60
  },
  {
   "cell_type": "code",
   "execution_count": 11,
   "id": "21c7a2297cced1e0",
   "metadata": {},
   "outputs": [
    {
     "name": "stdout",
     "output_type": "stream",
     "text": [
      "✅ Predictions saved to: .\\data\\testing_data_lowercase_labels.csv\n"
     ]
    }
   ],
   "source": [
    "## make predictions on test data\n",
    "filepath = r\".\\data\\testing_data_lowercase_labels.csv\"\n",
    "\n",
    "#predict_values(model_rf, tfidf_matrix_test, data_test, filepath)\n",
    "predict_values(model_nb2, tfidf_matrix_test, data_test, filepath)"
   ]
  },
  {
   "metadata": {},
   "cell_type": "code",
   "outputs": [],
   "execution_count": null,
   "source": "",
   "id": "6c318d2dc6bc50c8"
  }
 ],
 "metadata": {
  "kernelspec": {
   "display_name": ".venv",
   "language": "python",
   "name": "python3"
  },
  "language_info": {
   "codemirror_mode": {
    "name": "ipython",
    "version": 3
   },
   "file_extension": ".py",
   "mimetype": "text/x-python",
   "name": "python",
   "nbconvert_exporter": "python",
   "pygments_lexer": "ipython3",
   "version": "3.11.0"
  }
 },
 "nbformat": 4,
 "nbformat_minor": 5
}
