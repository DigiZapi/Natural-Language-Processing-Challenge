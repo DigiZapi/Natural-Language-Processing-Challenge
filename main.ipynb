{
 "cells": [
  {
   "cell_type": "markdown",
   "id": "1be66f97",
   "metadata": {},
   "source": [
    "Import Libs"
   ]
  },
  {
   "cell_type": "code",
   "execution_count": null,
   "id": "07c0ede9",
   "metadata": {
    "ExecuteTime": {
     "end_time": "2025-10-30T16:47:58.665085Z",
     "start_time": "2025-10-30T16:47:58.663517Z"
    }
   },
   "outputs": [],
   "source": [
    "import pandas as pd\n",
    "from sklearn.model_selection import train_test_split\n",
    "from sklearn.feature_extraction.text import TfidfVectorizer\n",
    "\n",
    "# own packages\n",
    "from preprocess_data import clean_text\n",
    "from preprocess_data import lemmatize_text\n",
    "from preprocess_data import tfidf_vec_transform, tfidf_vec_fit_transform\n",
    "from preprocess_data import count_vectorizer\n",
    "from models import model_sfnn_train\n",
    "from models import model_rf_train, model_naives_bayes, model_logistic_regression, model_multinominalNB_train, predict_values\n",
    "\n"
   ]
  },
  {
   "cell_type": "markdown",
   "id": "d1430f34",
   "metadata": {},
   "source": [
    "Function for reading the data"
   ]
  },
  {
   "cell_type": "code",
   "execution_count": null,
   "id": "cecb90c6",
   "metadata": {
    "ExecuteTime": {
     "end_time": "2025-10-30T16:47:58.669755Z",
     "start_time": "2025-10-30T16:47:58.668167Z"
    }
   },
   "outputs": [],
   "source": [
    "# get csv data\n",
    "def read_Data(path):\n",
    "\n",
    "    # Define column names\n",
    "    column_names = ['label', 'text']\n",
    "\n",
    "    df = pd.read_csv(path, delimiter='\\t', encoding=\"utf-8-sig\", header=None, names=column_names)\n",
    "    df.columns = df.columns.str.replace('\\ufeff', '')\n",
    "    df['label'] = df['label'].astype(str).str.replace('\\ufeff', '')\n",
    "    df['label'] = df['label'].astype(int)\n",
    "    \n",
    "    return df\n",
    "\n"
   ]
  },
  {
   "cell_type": "code",
   "execution_count": null,
   "id": "a1cacf3f",
   "metadata": {
    "ExecuteTime": {
     "end_time": "2025-10-30T16:47:58.713297Z",
     "start_time": "2025-10-30T16:47:58.671733Z"
    }
   },
   "outputs": [],
   "source": [
    "## read data windows\n",
    "data_train_val = read_Data(r\".\\data\\training_data_lowercase.csv\")           # used for train and val data\n",
    "data_test = read_Data(r\".\\data\\testing_data_lowercase_nolabels.csv\")        # data for the predictions\n",
    "\n",
    "## read data Mac\n",
    "#data_train_val = read_Data(\"data/training_data_lowercase.csv\")           # used for train and val data\n",
    "#data_test = read_Data(\"data/testing_data_lowercase_nolabels.csv\")        # data for the predictions\n",
    "\n",
    "\n",
    "## split data_train into train and val data\n",
    "data_train, data_val = train_test_split(data_train_val, test_size=0.15, random_state=42, stratify=data_train_val['label'])\n"
   ]
  },
  {
   "cell_type": "code",
   "execution_count": null,
   "id": "9317fe85",
   "metadata": {
    "ExecuteTime": {
     "end_time": "2025-10-30T16:58:53.323149Z",
     "start_time": "2025-10-30T16:58:50.420901Z"
    }
   },
   "outputs": [],
   "source": [
    "## preview data\n",
    "#print(data_train.head, \"\\n\")\n",
    "#print(data_test.head, \"\\n\")\n",
    "print(\"Shape train data:\\n\", data_train_val.shape)\n",
    "print(\"Shape test data:\\n\", data_test.shape)\n",
    "\n",
    "# clean data\n",
    "data_train['cleaned_text'] = data_train['text'].apply(clean_text)\n",
    "data_val['cleaned_text'] = data_val['text'].apply(clean_text)\n",
    "data_test['cleaned_text'] = data_test['text'].apply(clean_text)\n",
    "\n",
    "print(\"Cleand text train: \\n\", data_train[\"cleaned_text\"].head, \"\\n\")\n",
    "print(\"Cleand text test: \\n\", data_test[\"cleaned_text\"].head, \"\\n\")\n",
    "\n",
    "\n",
    "## lemmatize data\n",
    "data_train['lemmatized_text'] = data_train['cleaned_text'].apply(lemmatize_text)\n",
    "data_val['lemmatized_text'] = data_val['cleaned_text'].apply(lemmatize_text)\n",
    "data_test['lemmatized_text'] = data_test['cleaned_text'].apply(lemmatize_text)\n",
    "\n",
    "print(\"lemmatized_text train: \\n\", data_train['lemmatized_text'].head, \"\\n\")\n",
    "print(\"lemmatized_text test: \\n\", data_test['lemmatized_text'].head, \"\\n\")\n",
    "\n",
    "# calc tf-idf matrix\n",
    "vectorizer = TfidfVectorizer(stop_words='english', max_df=0.9, ngram_range=(1,2))\n",
    "\n",
    "tfidf_matrix_train = vectorizer.fit_transform(data_train['lemmatized_text'])\n",
    "tfidf_matrix_val = vectorizer.transform(data_val['lemmatized_text'])\n",
    "tfidf_matrix_test = vectorizer.transform(data_test['lemmatized_text'])\n",
    "\n",
    "# calc tf-idf matrix with uncleand data\n",
    "X_train_tfidf = vectorizer.fit_transform(data_train['text'])\n",
    "X_val_tfidf = vectorizer.transform(data_val['text'])\n",
    "X_test_tfidf = vectorizer.transform(data_test['text'])\n",
    "\n",
    "#print(\"tfidf_matrix_train_val: \\n\", tfidf_matrix_train, \"\\n\")\n",
    "#print(\"tfidf_matrix_test: \\n\", tfidf_matrix_test, \"\\n\")\n",
    "\n",
    "\n",
    "# count vectorizer\n",
    "#X_train_vec = count_vectorizer(data_train['lemmatized_text']).toarray()\n",
    "#X_val_vec = count_vectorizer(data_val['lemmatized_text']).toarray()\n",
    "\n"
   ]
  },
  {
   "cell_type": "code",
   "execution_count": null,
   "id": "4cd044eb",
   "metadata": {
    "ExecuteTime": {
     "end_time": "2025-10-30T16:58:58.115108Z",
     "start_time": "2025-10-30T16:58:58.096850Z"
    }
   },
   "outputs": [],
   "source": [
    "# Naive Bayes Model\n",
    "model_nb = model_naives_bayes(tfidf_matrix_train, data_train['label'], tfidf_matrix_val, data_val['label'])\n"
   ]
  },
  {
   "cell_type": "code",
   "execution_count": null,
   "id": "b23ef3f15eb1c81d",
   "metadata": {
    "ExecuteTime": {
     "end_time": "2025-10-30T16:48:02.481972Z",
     "start_time": "2025-10-30T16:48:02.480802Z"
    }
   },
   "outputs": [],
   "source": [
    "# Random Forest\n",
    "model_rf = model_rf_train(tfidf_matrix_train, tfidf_matrix_val, data_train['label'], data_val['label'])"
   ]
  },
  {
   "cell_type": "code",
   "execution_count": null,
   "id": "f2331bfb50cff074",
   "metadata": {},
   "outputs": [],
   "source": [
    "# Multinomial Naive Bayes (MultinomialNB) classifier\n",
    "model_mnb = model_multinominalNB_train(data_train['lemmatized_text'], data_val['lemmatized_text'], data_train['label'], data_val['label'])\n"
   ]
  },
  {
   "cell_type": "code",
   "execution_count": null,
   "id": "8b22e250232e613a",
   "metadata": {},
   "outputs": [],
   "source": [
    "# Simple Feedforward NN -> no good results\n",
    "model_sfnn_train(tfidf_matrix_train, data_train['label'], tfidf_matrix_val, data_val['label'])\n"
   ]
  },
  {
   "cell_type": "code",
   "execution_count": null,
   "id": "3d03646ca8316264",
   "metadata": {
    "ExecuteTime": {
     "end_time": "2025-10-30T16:48:02.487530Z",
     "start_time": "2025-10-30T16:48:02.486391Z"
    }
   },
   "outputs": [],
   "source": [
    "model_lr = model_logistic_regression(tfidf_matrix_train, data_train['label'], tfidf_matrix_val, data_val['label'])"
   ]
  },
  {
   "cell_type": "code",
   "execution_count": null,
   "id": "21c7a2297cced1e0",
   "metadata": {},
   "outputs": [],
   "source": [
    "## make predictions on test data\n",
    "filepath = r\".\\data\\testing_data_lowercase_labels.csv\"\n",
    "\n",
    "#predict_values(model_rf, tfidf_matrix_test, data_test, filepath)\n",
    "predict_values(model_nb, tfidf_matrix_test, data_test, filepath)"
   ]
  }
 ],
 "metadata": {
  "kernelspec": {
   "display_name": ".venv",
   "language": "python",
   "name": "python3"
  },
  "language_info": {
   "codemirror_mode": {
    "name": "ipython",
    "version": 3
   },
   "file_extension": ".py",
   "mimetype": "text/x-python",
   "name": "python",
   "nbconvert_exporter": "python",
   "pygments_lexer": "ipython3",
   "version": "3.11.0"
  }
 },
 "nbformat": 4,
 "nbformat_minor": 5
}
