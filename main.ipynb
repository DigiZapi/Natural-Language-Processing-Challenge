{
 "cells": [
  {
   "cell_type": "markdown",
   "id": "1be66f97",
   "metadata": {},
   "source": [
    "Import Libs"
   ]
  },
  {
   "cell_type": "code",
   "execution_count": null,
   "id": "07c0ede9",
   "metadata": {},
   "outputs": [],
   "source": [
    "import pandas as pd\n",
    "\n",
    "from preprocess_data import clean_text\n",
    "from model_randomF import model_rf_train\n",
    "from model_MultinomialNB import model_mnb_train"
   ]
  },
  {
   "cell_type": "code",
   "execution_count": null,
   "id": "750629ad",
   "metadata": {},
   "outputs": [],
   "source": []
  },
  {
   "cell_type": "code",
   "execution_count": 20,
   "id": "cecb90c6",
   "metadata": {},
   "outputs": [],
   "source": [
    "# get csv data\n",
    "\n",
    "def read_Data(path):\n",
    "    return pd.read_csv(path)"
   ]
  },
  {
   "cell_type": "code",
   "execution_count": null,
   "id": "9317fe85",
   "metadata": {},
   "outputs": [],
   "source": [
    "# read data and call classifier\n",
    "\n",
    "data_train = read_Data(r\".\\data\\training_data_lowercase.csv\")\n",
    "data_test = read_Data(r\".\\data\\testing_data_lowercase_nolabels.csv\")    \n",
    "\n",
    "\n"
   ]
  }
 ],
 "metadata": {
  "kernelspec": {
   "display_name": ".venv",
   "language": "python",
   "name": "python3"
  },
  "language_info": {
   "codemirror_mode": {
    "name": "ipython",
    "version": 3
   },
   "file_extension": ".py",
   "mimetype": "text/x-python",
   "name": "python",
   "nbconvert_exporter": "python",
   "pygments_lexer": "ipython3",
   "version": "3.11.0"
  }
 },
 "nbformat": 4,
 "nbformat_minor": 5
}
