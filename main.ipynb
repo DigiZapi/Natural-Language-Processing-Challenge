{
 "cells": [
  {
   "cell_type": "markdown",
   "id": "1be66f97",
   "metadata": {},
   "source": [
    "Import Libs"
   ]
  },
  {
   "cell_type": "code",
   "execution_count": 11,
   "id": "07c0ede9",
   "metadata": {
    "ExecuteTime": {
     "end_time": "2025-10-30T16:47:58.665085Z",
     "start_time": "2025-10-30T16:47:58.663517Z"
    }
   },
   "outputs": [],
   "source": [
    "import pandas as pd\n",
    "from sklearn.model_selection import train_test_split\n",
    "from sklearn.feature_extraction.text import TfidfVectorizer\n",
    "\n",
    "# own packages\n",
    "from preprocess_data import clean_text\n",
    "from preprocess_data import lemmatize_text\n",
    "from preprocess_data import tfidf_vec_transform, tfidf_vec_fit_transform\n",
    "from preprocess_data import count_vectorizer\n",
    "from models import model_sfnn_train\n",
    "from models import model_rf_train, model_naives_bayes, model_logistic_regression, model_multinominalNB_train, predict_values\n",
    "\n"
   ]
  },
  {
   "cell_type": "markdown",
   "id": "d1430f34",
   "metadata": {},
   "source": [
    "Function for reading the data"
   ]
  },
  {
   "cell_type": "code",
   "execution_count": 12,
   "id": "cecb90c6",
   "metadata": {
    "ExecuteTime": {
     "end_time": "2025-10-30T16:47:58.669755Z",
     "start_time": "2025-10-30T16:47:58.668167Z"
    }
   },
   "outputs": [],
   "source": [
    "# get csv data\n",
    "def read_Data(path):\n",
    "\n",
    "    # Define column names\n",
    "    column_names = ['label', 'text']\n",
    "\n",
    "    df = pd.read_csv(path, delimiter='\\t', encoding=\"utf-8-sig\", header=None, names=column_names)\n",
    "    df.columns = df.columns.str.replace('\\ufeff', '')\n",
    "    df['label'] = df['label'].astype(str).str.replace('\\ufeff', '')\n",
    "    df['label'] = df['label'].astype(int)\n",
    "    \n",
    "    return df\n",
    "\n"
   ]
  },
  {
   "cell_type": "code",
   "execution_count": 13,
   "id": "a1cacf3f",
   "metadata": {
    "ExecuteTime": {
     "end_time": "2025-10-30T16:47:58.713297Z",
     "start_time": "2025-10-30T16:47:58.671733Z"
    }
   },
   "outputs": [],
   "source": [
    "## read data windows\n",
    "data_train_val = read_Data(r\".\\data\\training_data_lowercase.csv\")           # used for train and val data\n",
    "data_test = read_Data(r\".\\data\\testing_data_lowercase_nolabels.csv\")        # data for the predictions\n",
    "\n",
    "## read data Mac\n",
    "#data_train_val = read_Data(\"data/training_data_lowercase.csv\")           # used for train and val data\n",
    "#data_test = read_Data(\"data/testing_data_lowercase_nolabels.csv\")        # data for the predictions\n",
    "\n",
    "\n",
    "## split data_train into train and val data\n",
    "data_train, data_val = train_test_split(data_train_val, test_size=0.3, random_state=42, stratify=data_train_val['label'])\n"
   ]
  },
  {
   "cell_type": "code",
   "execution_count": 14,
   "id": "9317fe85",
   "metadata": {
    "ExecuteTime": {
     "end_time": "2025-10-30T16:58:53.323149Z",
     "start_time": "2025-10-30T16:58:50.420901Z"
    }
   },
   "outputs": [
    {
     "name": "stdout",
     "output_type": "stream",
     "text": [
      "Shape train data:\n",
      " (34152, 2)\n",
      "Shape test data:\n",
      " (9984, 2)\n",
      "Cleand text train: \n",
      " <bound method NDFrame.head of 21024    [trumps, paris, decision, followed, debate, mo...\n",
      "1057     [texas, republican, bringing, two, antilgbt, b...\n",
      "10514    [oops, mn, juror, case, cop, killed, philando,...\n",
      "11891    [awesome, trump, tweets, two, rules, guide, tr...\n",
      "32054    [australian, medical, group, wants, access, ma...\n",
      "                               ...                        \n",
      "5267     [trump, sends, hillary, pathetic, threat, one,...\n",
      "13642    [breaking, fbi, investigating, clinton, crony,...\n",
      "22524    [us, lawmakers, seek, visas, afghans, helped, ...\n",
      "883                                         [like, father]\n",
      "3939     [hilariously, amazing, video, weve, waiting, e...\n",
      "Name: cleaned_text, Length: 23906, dtype: object> \n",
      "\n",
      "Cleand text test: \n",
      " <bound method NDFrame.head of 0       [copycat, muslim, terrorist, arrested, assault...\n",
      "1       [wow, chicago, protester, caught, camera, admi...\n",
      "2       [germanys, fdp, look, fill, schaeubles, big, s...\n",
      "3       [mi, school, sends, welcome, back, packet, war...\n",
      "4       [un, seeks, massive, aid, boost, amid, rohingy...\n",
      "                              ...                        \n",
      "9979    [boom, fox, news, leftist, chris, wallace, att...\n",
      "9980    [list, democrat, hypocrites, voted, filibuster...\n",
      "9981    [new, fires, ravage, rohingya, villages, north...\n",
      "9982    [meals, wheels, shuts, lyin, lefties, truth, m...\n",
      "9983    [brilliant, tucker, carlson, ayaan, hirsi, ali...\n",
      "Name: cleaned_text, Length: 9984, dtype: object> \n",
      "\n",
      "lemmatized_text train: \n",
      " <bound method NDFrame.head of 21024    trump paris decision followed debate moderate ...\n",
      "1057     texas republican bringing two antilgbt bathroo...\n",
      "10514    oops mn juror case cop killed philando castile...\n",
      "11891    awesome trump tweet two rule guide trump admin...\n",
      "32054    australian medical group want access manus isl...\n",
      "                               ...                        \n",
      "5267     trump sends hillary pathetic threat one day dn...\n",
      "13642    breaking fbi investigating clinton crony virgi...\n",
      "22524           u lawmaker seek visa afghan helped u force\n",
      "883                                            like father\n",
      "3939     hilariously amazing video weve waiting electio...\n",
      "Name: lemmatized_text, Length: 23906, dtype: object> \n",
      "\n",
      "lemmatized_text test: \n",
      " <bound method NDFrame.head of 0        copycat muslim terrorist arrested assault weapon\n",
      "1       wow chicago protester caught camera admits vio...\n",
      "2               germany fdp look fill schaeubles big shoe\n",
      "3       mi school sends welcome back packet warning ki...\n",
      "4       un seek massive aid boost amid rohingya emerge...\n",
      "                              ...                        \n",
      "9979    boom fox news leftist chris wallace attempt tr...\n",
      "9980    list democrat hypocrite voted filibuster gw bu...\n",
      "9981    new fire ravage rohingya village northwest mya...\n",
      "9982    meal wheel shuts lyin lefty truth moveonorgs f...\n",
      "9983    brilliant tucker carlson ayaan hirsi ali discu...\n",
      "Name: lemmatized_text, Length: 9984, dtype: object> \n",
      "\n"
     ]
    }
   ],
   "source": [
    "## preview data\n",
    "#print(data_train.head, \"\\n\")\n",
    "#print(data_test.head, \"\\n\")\n",
    "print(\"Shape train data:\\n\", data_train_val.shape)\n",
    "print(\"Shape test data:\\n\", data_test.shape)\n",
    "\n",
    "# clean data\n",
    "data_train['cleaned_text'] = data_train['text'].apply(clean_text)\n",
    "data_val['cleaned_text'] = data_val['text'].apply(clean_text)\n",
    "data_test['cleaned_text'] = data_test['text'].apply(clean_text)\n",
    "\n",
    "print(\"Cleand text train: \\n\", data_train[\"cleaned_text\"].head, \"\\n\")\n",
    "print(\"Cleand text test: \\n\", data_test[\"cleaned_text\"].head, \"\\n\")\n",
    "\n",
    "\n",
    "## lemmatize data\n",
    "data_train['lemmatized_text'] = data_train['cleaned_text'].apply(lemmatize_text)\n",
    "data_val['lemmatized_text'] = data_val['cleaned_text'].apply(lemmatize_text)\n",
    "data_test['lemmatized_text'] = data_test['cleaned_text'].apply(lemmatize_text)\n",
    "\n",
    "print(\"lemmatized_text train: \\n\", data_train['lemmatized_text'].head, \"\\n\")\n",
    "print(\"lemmatized_text test: \\n\", data_test['lemmatized_text'].head, \"\\n\")\n",
    "\n",
    "# calc tf-idf matrix\n",
    "vectorizer = TfidfVectorizer(stop_words='english', max_df=0.7, ngram_range=(1,1))\n",
    "\n",
    "tfidf_matrix_train = vectorizer.fit_transform(data_train['lemmatized_text'])\n",
    "tfidf_matrix_val = vectorizer.transform(data_val['lemmatized_text'])\n",
    "tfidf_matrix_test = vectorizer.transform(data_test['lemmatized_text'])\n",
    "\n",
    "# calc tf-idf matrix with uncleand data\n",
    "X_train_tfidf = vectorizer.fit_transform(data_train['text'])\n",
    "X_val_tfidf = vectorizer.transform(data_val['text'])\n",
    "X_test_tfidf = vectorizer.transform(data_test['text'])\n",
    "\n",
    "#print(\"tfidf_matrix_train_val: \\n\", tfidf_matrix_train, \"\\n\")\n",
    "#print(\"tfidf_matrix_test: \\n\", tfidf_matrix_test, \"\\n\")\n",
    "\n",
    "\n",
    "# count vectorizer\n",
    "#X_train_vec = count_vectorizer(data_train['lemmatized_text']).toarray()\n",
    "#X_val_vec = count_vectorizer(data_val['lemmatized_text']).toarray()\n",
    "\n"
   ]
  },
  {
   "cell_type": "code",
   "execution_count": null,
   "id": "4cd044eb",
   "metadata": {
    "ExecuteTime": {
     "end_time": "2025-10-30T16:58:58.115108Z",
     "start_time": "2025-10-30T16:58:58.096850Z"
    }
   },
   "outputs": [
    {
     "name": "stdout",
     "output_type": "stream",
     "text": [
      "Train accuracy: 0.9527315318330126\n",
      "\n",
      " Validation Accuracy:0.928069\n",
      "\n",
      "classification_report:\n",
      "               precision    recall  f1-score   support\n",
      "\n",
      "           0     0.9212    0.9406    0.9308      5272\n",
      "           1     0.9356    0.9148    0.9251      4974\n",
      "\n",
      "    accuracy                         0.9281     10246\n",
      "   macro avg     0.9284    0.9277    0.9280     10246\n",
      "weighted avg     0.9282    0.9281    0.9280     10246\n",
      "\n"
     ]
    }
   ],
   "source": [
    "# Naive Bayes Model\n",
    "model_nb = model_naives_bayes(tfidf_matrix_train, data_train['label'], tfidf_matrix_val, data_val['label'])\n"
   ]
  },
  {
   "cell_type": "code",
   "execution_count": null,
   "id": "b23ef3f15eb1c81d",
   "metadata": {
    "ExecuteTime": {
     "end_time": "2025-10-30T16:48:02.481972Z",
     "start_time": "2025-10-30T16:48:02.480802Z"
    }
   },
   "outputs": [
    {
     "name": "stdout",
     "output_type": "stream",
     "text": [
      "Train Accuracy: 100.00%\n",
      "Random forest model\n",
      "accuracy: 0.9124536404450517\n",
      "Classification report:\n",
      "               precision    recall  f1-score   support\n",
      "\n",
      "           0       0.91      0.92      0.91      5272\n",
      "           1       0.91      0.91      0.91      4974\n",
      "\n",
      "    accuracy                           0.91     10246\n",
      "   macro avg       0.91      0.91      0.91     10246\n",
      "weighted avg       0.91      0.91      0.91     10246\n",
      "\n"
     ]
    }
   ],
   "source": [
    "# Random Forest\n",
    "model_rf = model_rf_train(tfidf_matrix_train, tfidf_matrix_val, data_train['label'], data_val['label'])"
   ]
  },
  {
   "cell_type": "code",
   "execution_count": 17,
   "id": "f2331bfb50cff074",
   "metadata": {},
   "outputs": [
    {
     "name": "stdout",
     "output_type": "stream",
     "text": [
      "Train Accuracy: 95.09%\n",
      "Test\n",
      "accuracy: 0.9331446418114386\n",
      "Classification report:\n",
      "               precision    recall  f1-score   support\n",
      "\n",
      "           0       0.93      0.94      0.94      5272\n",
      "           1       0.94      0.93      0.93      4974\n",
      "\n",
      "    accuracy                           0.93     10246\n",
      "   macro avg       0.93      0.93      0.93     10246\n",
      "weighted avg       0.93      0.93      0.93     10246\n",
      "\n"
     ]
    }
   ],
   "source": [
    "# Multinomial Naive Bayes (MultinomialNB) classifier\n",
    "model_mnb = model_multinominalNB_train(data_train['lemmatized_text'], data_val['lemmatized_text'], data_train['label'], data_val['label'])\n"
   ]
  },
  {
   "cell_type": "code",
   "execution_count": 18,
   "id": "8b22e250232e613a",
   "metadata": {},
   "outputs": [
    {
     "name": "stdout",
     "output_type": "stream",
     "text": [
      "Epoch 1/20\n"
     ]
    },
    {
     "name": "stderr",
     "output_type": "stream",
     "text": [
      "d:\\ownCloud\\Dokumente\\Ironhack\\.venv\\Lib\\site-packages\\keras\\src\\layers\\core\\dense.py:95: UserWarning: Do not pass an `input_shape`/`input_dim` argument to a layer. When using Sequential models, prefer using an `Input(shape)` object as the first layer in the model instead.\n",
      "  super().__init__(activity_regularizer=activity_regularizer, **kwargs)\n"
     ]
    },
    {
     "name": "stdout",
     "output_type": "stream",
     "text": [
      "\u001b[1m187/187\u001b[0m \u001b[32m━━━━━━━━━━━━━━━━━━━━\u001b[0m\u001b[37m\u001b[0m \u001b[1m1s\u001b[0m 4ms/step - accuracy: 0.8379 - loss: 0.3904 - val_accuracy: 0.9124 - val_loss: 0.2191\n",
      "Epoch 2/20\n",
      "\u001b[1m187/187\u001b[0m \u001b[32m━━━━━━━━━━━━━━━━━━━━\u001b[0m\u001b[37m\u001b[0m \u001b[1m1s\u001b[0m 3ms/step - accuracy: 0.9193 - loss: 0.2017 - val_accuracy: 0.9175 - val_loss: 0.2071\n",
      "Epoch 3/20\n",
      "\u001b[1m187/187\u001b[0m \u001b[32m━━━━━━━━━━━━━━━━━━━━\u001b[0m\u001b[37m\u001b[0m \u001b[1m1s\u001b[0m 3ms/step - accuracy: 0.9316 - loss: 0.1735 - val_accuracy: 0.9203 - val_loss: 0.2043\n",
      "Epoch 4/20\n",
      "\u001b[1m187/187\u001b[0m \u001b[32m━━━━━━━━━━━━━━━━━━━━\u001b[0m\u001b[37m\u001b[0m \u001b[1m1s\u001b[0m 3ms/step - accuracy: 0.9448 - loss: 0.1460 - val_accuracy: 0.9198 - val_loss: 0.2105\n",
      "Epoch 5/20\n",
      "\u001b[1m187/187\u001b[0m \u001b[32m━━━━━━━━━━━━━━━━━━━━\u001b[0m\u001b[37m\u001b[0m \u001b[1m1s\u001b[0m 3ms/step - accuracy: 0.9577 - loss: 0.1145 - val_accuracy: 0.9233 - val_loss: 0.2112\n",
      "Epoch 6/20\n",
      "\u001b[1m187/187\u001b[0m \u001b[32m━━━━━━━━━━━━━━━━━━━━\u001b[0m\u001b[37m\u001b[0m \u001b[1m1s\u001b[0m 3ms/step - accuracy: 0.9700 - loss: 0.0861 - val_accuracy: 0.9223 - val_loss: 0.2204\n",
      "Epoch 7/20\n",
      "\u001b[1m187/187\u001b[0m \u001b[32m━━━━━━━━━━━━━━━━━━━━\u001b[0m\u001b[37m\u001b[0m \u001b[1m1s\u001b[0m 3ms/step - accuracy: 0.9781 - loss: 0.0638 - val_accuracy: 0.9244 - val_loss: 0.2305\n",
      "Epoch 8/20\n",
      "\u001b[1m187/187\u001b[0m \u001b[32m━━━━━━━━━━━━━━━━━━━━\u001b[0m\u001b[37m\u001b[0m \u001b[1m1s\u001b[0m 3ms/step - accuracy: 0.9847 - loss: 0.0490 - val_accuracy: 0.9249 - val_loss: 0.2510\n",
      "\u001b[1m748/748\u001b[0m \u001b[32m━━━━━━━━━━━━━━━━━━━━\u001b[0m\u001b[37m\u001b[0m \u001b[1m1s\u001b[0m 642us/step\n",
      "\u001b[1m321/321\u001b[0m \u001b[32m━━━━━━━━━━━━━━━━━━━━\u001b[0m\u001b[37m\u001b[0m \u001b[1m0s\u001b[0m 623us/step\n",
      "Train Accuracy: 95.53%\n",
      "Validation Accuracy: 92.03%\n",
      "Validation Classification Report:\n",
      "               precision    recall  f1-score   support\n",
      "\n",
      "           0       0.93      0.91      0.92      5272\n",
      "           1       0.91      0.93      0.92      4974\n",
      "\n",
      "    accuracy                           0.92     10246\n",
      "   macro avg       0.92      0.92      0.92     10246\n",
      "weighted avg       0.92      0.92      0.92     10246\n",
      "\n"
     ]
    },
    {
     "data": {
      "text/plain": [
       "<Sequential name=sequential_1, built=True>"
      ]
     },
     "execution_count": 18,
     "metadata": {},
     "output_type": "execute_result"
    }
   ],
   "source": [
    "# Simple Feedforward NN -> no good results\n",
    "model_sfnn_train(tfidf_matrix_train, data_train['label'], tfidf_matrix_val, data_val['label'])\n"
   ]
  },
  {
   "cell_type": "code",
   "execution_count": 19,
   "id": "3d03646ca8316264",
   "metadata": {
    "ExecuteTime": {
     "end_time": "2025-10-30T16:48:02.487530Z",
     "start_time": "2025-10-30T16:48:02.486391Z"
    }
   },
   "outputs": [
    {
     "name": "stdout",
     "output_type": "stream",
     "text": [
      "\n",
      "Train Accuracy: 95.41%\n",
      "\n",
      "Validation Accuracy: 92.68%\n",
      "\n",
      "Classification Report:\n",
      "               precision    recall  f1-score   support\n",
      "\n",
      "           0       0.94      0.92      0.93      5272\n",
      "           1       0.91      0.94      0.93      4974\n",
      "\n",
      "    accuracy                           0.93     10246\n",
      "   macro avg       0.93      0.93      0.93     10246\n",
      "weighted avg       0.93      0.93      0.93     10246\n",
      "\n"
     ]
    }
   ],
   "source": [
    "model_lr = model_logistic_regression(tfidf_matrix_train, data_train['label'], tfidf_matrix_val, data_val['label'])"
   ]
  },
  {
   "cell_type": "code",
   "execution_count": null,
   "id": "21c7a2297cced1e0",
   "metadata": {},
   "outputs": [
    {
     "name": "stdout",
     "output_type": "stream",
     "text": [
      "✅ Predictions saved to: .\\data\\testing_data_lowercase_labels.csv\n"
     ]
    }
   ],
   "source": [
    "## make predictions on test data\n",
    "filepath = r\".\\data\\testing_data_lowercase_labels.csv\"\n",
    "\n",
    "predict_values(model_rf, tfidf_matrix_test, data_test, filepath)\n",
    "predict_values(model_nb, tfidf_matrix_test, data_test, filepath)"
   ]
  }
 ],
 "metadata": {
  "kernelspec": {
   "display_name": ".venv",
   "language": "python",
   "name": "python3"
  },
  "language_info": {
   "codemirror_mode": {
    "name": "ipython",
    "version": 3
   },
   "file_extension": ".py",
   "mimetype": "text/x-python",
   "name": "python",
   "nbconvert_exporter": "python",
   "pygments_lexer": "ipython3",
   "version": "3.11.0"
  }
 },
 "nbformat": 4,
 "nbformat_minor": 5
}
