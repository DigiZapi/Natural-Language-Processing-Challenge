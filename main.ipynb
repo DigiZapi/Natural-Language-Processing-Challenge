{
 "cells": [
  {
   "cell_type": "markdown",
   "id": "1be66f97",
   "metadata": {},
   "source": [
    "Import Libs"
   ]
  },
  {
   "cell_type": "code",
   "execution_count": 1,
   "id": "07c0ede9",
   "metadata": {
    "ExecuteTime": {
     "end_time": "2025-10-30T15:48:52.449969Z",
     "start_time": "2025-10-30T15:48:52.446144Z"
    }
   },
   "outputs": [],
   "source": [
    "import pandas as pd\n",
    "from sklearn.model_selection import train_test_split\n",
    "from sklearn.feature_extraction.text import TfidfVectorizer\n",
    "\n",
    "# own packages\n",
    "from preprocess_data import clean_text\n",
    "from preprocess_data import lemmatize_text\n",
    "from preprocess_data import tfidf_vec_transform, tfidf_vec_fit_transform\n",
    "from preprocess_data import count_vectorizer\n",
    "from models import model_sfnn_train\n",
    "from models import model_rf_train, model_naives_bayes, model_logistic_regression, model_multinominalNB_train, predict_values\n"
   ]
  },
  {
   "cell_type": "markdown",
   "id": "d1430f34",
   "metadata": {},
   "source": [
    "Function for reading the data"
   ]
  },
  {
   "cell_type": "code",
   "execution_count": 2,
   "id": "cecb90c6",
   "metadata": {
    "ExecuteTime": {
     "end_time": "2025-10-30T15:48:56.291408Z",
     "start_time": "2025-10-30T15:48:56.287581Z"
    }
   },
   "outputs": [],
   "source": [
    "# get csv data\n",
    "def read_Data(path):\n",
    "\n",
    "    # Define column names\n",
    "    column_names = ['label', 'text']\n",
    "\n",
    "    df = pd.read_csv(path, delimiter='\\t', encoding=\"utf-8-sig\", header=None, names=column_names)\n",
    "    df.columns = df.columns.str.replace('\\ufeff', '')\n",
    "    df['label'] = df['label'].astype(str).str.replace('\\ufeff', '')\n",
    "    df['label'] = df['label'].astype(int)\n",
    "    \n",
    "    return df\n",
    "\n"
   ]
  },
  {
   "cell_type": "code",
   "execution_count": 3,
   "id": "a1cacf3f",
   "metadata": {
    "ExecuteTime": {
     "end_time": "2025-10-30T15:48:56.845312Z",
     "start_time": "2025-10-30T15:48:56.775760Z"
    }
   },
   "outputs": [],
   "source": [
    "## read data windows\n",
    "data_train_val = read_Data(r\".\\data\\training_data_lowercase.csv\")           # used for train and val data\n",
    "data_test = read_Data(r\".\\data\\testing_data_lowercase_nolabels.csv\")        # data for the predictions\n",
    "\n",
    "## read data Mac\n",
    "#data_train_val = read_Data(\"data/training_data_lowercase.csv\")           # used for train and val data\n",
    "#data_test = read_Data(\"data/testing_data_lowercase_nolabels.csv\")        # data for the predictions\n",
    "\n",
    "\n",
    "## split data_train into train and val data\n",
    "data_train, data_val = train_test_split(data_train_val, test_size=0.2, random_state=42, stratify=data_train_val['label'])\n"
   ]
  },
  {
   "cell_type": "code",
   "execution_count": 4,
   "id": "9317fe85",
   "metadata": {
    "ExecuteTime": {
     "end_time": "2025-10-30T15:52:40.656872Z",
     "start_time": "2025-10-30T15:52:37.681264Z"
    }
   },
   "outputs": [
    {
     "name": "stdout",
     "output_type": "stream",
     "text": [
      "Shape train data:\n",
      " (34152, 2)\n",
      "Shape test data:\n",
      " (9984, 2)\n",
      "Cleand text train: \n",
      " <bound method NDFrame.head of 6851     [republicans, punish, georgia, governor, refus...\n",
      "17313    [father, soldier, slain, niger, defends, presi...\n",
      "22435    [south, dakotas, governor, vetoes, loosening, ...\n",
      "29488    [turkeys, erdogan, says, take, jerusalem, reso...\n",
      "6625     [bill, maher, insults, trumps, supposed, mascu...\n",
      "                               ...                        \n",
      "5267     [trump, sends, hillary, pathetic, threat, one,...\n",
      "13642    [breaking, fbi, investigating, clinton, crony,...\n",
      "19391    [new, russian, envoy, describes, warm, meeting...\n",
      "883                                         [like, father]\n",
      "3939     [hilariously, amazing, video, weve, waiting, e...\n",
      "Name: cleaned_text, Length: 27321, dtype: object> \n",
      "\n",
      "Cleand text test: \n",
      " <bound method NDFrame.head of 0       [copycat, muslim, terrorist, arrested, assault...\n",
      "1       [wow, chicago, protester, caught, camera, admi...\n",
      "2       [germanys, fdp, look, fill, schaeubles, big, s...\n",
      "3       [mi, school, sends, welcome, back, packet, war...\n",
      "4       [un, seeks, massive, aid, boost, amid, rohingy...\n",
      "                              ...                        \n",
      "9979    [boom, fox, news, leftist, chris, wallace, att...\n",
      "9980    [list, democrat, hypocrites, voted, filibuster...\n",
      "9981    [new, fires, ravage, rohingya, villages, north...\n",
      "9982    [meals, wheels, shuts, lyin, lefties, truth, m...\n",
      "9983    [brilliant, tucker, carlson, ayaan, hirsi, ali...\n",
      "Name: cleaned_text, Length: 9984, dtype: object> \n",
      "\n",
      "lemmatized_text train: \n",
      " <bound method NDFrame.head of 6851     republican punish georgia governor refusing le...\n",
      "17313    father soldier slain niger defends president t...\n",
      "22435    south dakota governor veto loosening concealed...\n",
      "29488    turkey erdogan say take jerusalem resolution u...\n",
      "6625     bill maher insult trump supposed masculinity g...\n",
      "                               ...                        \n",
      "5267     trump sends hillary pathetic threat one day dn...\n",
      "13642    breaking fbi investigating clinton crony virgi...\n",
      "19391    new russian envoy describes warm meeting trump...\n",
      "883                                            like father\n",
      "3939     hilariously amazing video weve waiting electio...\n",
      "Name: lemmatized_text, Length: 27321, dtype: object> \n",
      "\n",
      "lemmatized_text test: \n",
      " <bound method NDFrame.head of 0        copycat muslim terrorist arrested assault weapon\n",
      "1       wow chicago protester caught camera admits vio...\n",
      "2               germany fdp look fill schaeubles big shoe\n",
      "3       mi school sends welcome back packet warning ki...\n",
      "4       un seek massive aid boost amid rohingya emerge...\n",
      "                              ...                        \n",
      "9979    boom fox news leftist chris wallace attempt tr...\n",
      "9980    list democrat hypocrite voted filibuster gw bu...\n",
      "9981    new fire ravage rohingya village northwest mya...\n",
      "9982    meal wheel shuts lyin lefty truth moveonorgs f...\n",
      "9983    brilliant tucker carlson ayaan hirsi ali discu...\n",
      "Name: lemmatized_text, Length: 9984, dtype: object> \n",
      "\n"
     ]
    }
   ],
   "source": [
    "## preview data\n",
    "#print(data_train.head, \"\\n\")\n",
    "#print(data_test.head, \"\\n\")\n",
    "print(\"Shape train data:\\n\", data_train_val.shape)\n",
    "print(\"Shape test data:\\n\", data_test.shape)\n",
    "\n",
    "# clean data\n",
    "data_train['cleaned_text'] = data_train['text'].apply(clean_text)\n",
    "data_val['cleaned_text'] = data_val['text'].apply(clean_text)\n",
    "data_test['cleaned_text'] = data_test['text'].apply(clean_text)\n",
    "\n",
    "print(\"Cleand text train: \\n\", data_train[\"cleaned_text\"].head, \"\\n\")\n",
    "print(\"Cleand text test: \\n\", data_test[\"cleaned_text\"].head, \"\\n\")\n",
    "\n",
    "\n",
    "## lemmatize data\n",
    "data_train['lemmatized_text'] = data_train['cleaned_text'].apply(lemmatize_text)\n",
    "data_val['lemmatized_text'] = data_val['cleaned_text'].apply(lemmatize_text)\n",
    "data_test['lemmatized_text'] = data_test['cleaned_text'].apply(lemmatize_text)\n",
    "\n",
    "print(\"lemmatized_text train: \\n\", data_train['lemmatized_text'].head, \"\\n\")\n",
    "print(\"lemmatized_text test: \\n\", data_test['lemmatized_text'].head, \"\\n\")\n",
    "\n",
    "# calc tf-idf matrix\n",
    "vectorizer = TfidfVectorizer(stop_words='english', max_df=0.7)\n",
    "\n",
    "tfidf_matrix_train = vectorizer.fit_transform(data_train['lemmatized_text'])\n",
    "tfidf_matrix_val = vectorizer.transform(data_val['lemmatized_text'])\n",
    "tfidf_matrix_test = vectorizer.transform(data_test['lemmatized_text'])\n",
    "\n",
    "# calc tf-idf matrix with uncleand data\n",
    "X_train_tfidf = vectorizer.fit_transform(data_train['text'])\n",
    "X_val_tfidf = vectorizer.transform(data_val['text'])\n",
    "X_test_tfidf = vectorizer.transform(data_test['text'])\n",
    "\n",
    "#print(\"tfidf_matrix_train_val: \\n\", tfidf_matrix_train, \"\\n\")\n",
    "#print(\"tfidf_matrix_test: \\n\", tfidf_matrix_test, \"\\n\")\n",
    "\n",
    "\n",
    "# count vectorizer\n",
    "#X_train_vec = count_vectorizer(data_train['lemmatized_text']).toarray()\n",
    "#X_val_vec = count_vectorizer(data_val['lemmatized_text']).toarray()\n",
    "\n"
   ]
  },
  {
   "cell_type": "code",
   "execution_count": 5,
   "id": "4cd044eb",
   "metadata": {
    "ExecuteTime": {
     "end_time": "2025-10-30T15:52:42.665733Z",
     "start_time": "2025-10-30T15:52:42.644693Z"
    }
   },
   "outputs": [],
   "source": [
    "# Naive Bayes Model\n",
    "#model_nb = model_naives_bayes(X_train_tfidf, data_train['label'], X_val_tfidf, data_val['label'])\n"
   ]
  },
  {
   "cell_type": "code",
   "execution_count": 6,
   "id": "b23ef3f15eb1c81d",
   "metadata": {
    "ExecuteTime": {
     "end_time": "2025-10-30T15:54:24.480579Z",
     "start_time": "2025-10-30T15:54:24.478352Z"
    }
   },
   "outputs": [
    {
     "name": "stdout",
     "output_type": "stream",
     "text": [
      "Random forest model\n",
      "accuracy: 0.9146537842190016\n",
      "Classification report:\n",
      "               precision    recall  f1-score   support\n",
      "\n",
      "           0       0.92      0.92      0.92      3515\n",
      "           1       0.91      0.91      0.91      3316\n",
      "\n",
      "    accuracy                           0.91      6831\n",
      "   macro avg       0.91      0.91      0.91      6831\n",
      "weighted avg       0.91      0.91      0.91      6831\n",
      "\n"
     ]
    }
   ],
   "source": [
    "# Random Forest\n",
    "model_rf = model_rf_train(tfidf_matrix_train, tfidf_matrix_val, data_train['label'], data_val['label'])"
   ]
  },
  {
   "cell_type": "code",
   "execution_count": 7,
   "id": "f2331bfb50cff074",
   "metadata": {},
   "outputs": [],
   "source": [
    "# Multinomial Naive Bayes (MultinomialNB) classifier\n",
    "#model_mnb = model_multinominalNB_train(data_train['lemmatized_text'], data_val['lemmatized_text'], data_train['label'], data_val['label'])\n"
   ]
  },
  {
   "cell_type": "code",
   "execution_count": 8,
   "id": "8b22e250232e613a",
   "metadata": {},
   "outputs": [],
   "source": [
    "#model_sfnn_train(tfidf_matrix_train, data_train['label'], tfidf_matrix_val, data_val['label'])\n",
    "# Simple Feedforward NN -> no good results"
   ]
  },
  {
   "cell_type": "code",
   "execution_count": 9,
   "id": "3d03646ca8316264",
   "metadata": {
    "ExecuteTime": {
     "end_time": "2025-10-30T15:55:01.528719Z",
     "start_time": "2025-10-30T15:55:01.526073Z"
    }
   },
   "outputs": [],
   "source": [
    "#model_lr = model_logistic_regression(X_train_tfidf, data_train['label'], X_val_tfidf, data_val['label'])"
   ]
  },
  {
   "cell_type": "code",
   "execution_count": 10,
   "id": "21c7a2297cced1e0",
   "metadata": {},
   "outputs": [
    {
     "name": "stdout",
     "output_type": "stream",
     "text": [
      "✅ Predictions saved to: .\\data\\testing_data_lowercase_labels.csv\n"
     ]
    }
   ],
   "source": [
    "## make predictions on test data\n",
    "filepath = r\".\\data\\testing_data_lowercase_labels.csv\"\n",
    "\n",
    "predict_values(model_rf, tfidf_matrix_test, data_test, filepath)"
   ]
  }
 ],
 "metadata": {
  "kernelspec": {
   "display_name": ".venv",
   "language": "python",
   "name": "python3"
  },
  "language_info": {
   "codemirror_mode": {
    "name": "ipython",
    "version": 3
   },
   "file_extension": ".py",
   "mimetype": "text/x-python",
   "name": "python",
   "nbconvert_exporter": "python",
   "pygments_lexer": "ipython3",
   "version": "3.11.0"
  }
 },
 "nbformat": 4,
 "nbformat_minor": 5
}
