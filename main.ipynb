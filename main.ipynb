{
 "cells": [
  {
   "cell_type": "markdown",
   "id": "1be66f97",
   "metadata": {},
   "source": [
    "Import Libs"
   ]
  },
  {
   "cell_type": "code",
   "execution_count": 2,
   "id": "07c0ede9",
   "metadata": {
    "ExecuteTime": {
     "end_time": "2025-10-31T11:25:08.283170Z",
     "start_time": "2025-10-31T11:25:08.276093Z"
    }
   },
   "outputs": [],
   "source": [
    "import pandas as pd\n",
    "from sklearn.model_selection import train_test_split\n",
    "from sklearn.feature_extraction.text import TfidfVectorizer\n",
    "from sentence_transformers import SentenceTransformer\n",
    "\n",
    "# own packages\n",
    "from preprocess_data import clean_text\n",
    "from preprocess_data import lemmatize_text\n",
    "from models import model_sfnn_train\n",
    "from models import model_rf_train, model_naives_bayes, model_logistic_regression, predict_values, model_xgboost\n",
    "\n"
   ]
  },
  {
   "cell_type": "markdown",
   "id": "d1430f34",
   "metadata": {},
   "source": [
    "## Importing and reading the data"
   ]
  },
  {
   "cell_type": "code",
   "execution_count": 3,
   "id": "cecb90c6",
   "metadata": {
    "ExecuteTime": {
     "end_time": "2025-10-31T11:25:09.669245Z",
     "start_time": "2025-10-31T11:25:09.664335Z"
    }
   },
   "outputs": [],
   "source": [
    "# get csv data\n",
    "def read_Data(path):\n",
    "\n",
    "    # Define column names\n",
    "    column_names = ['label', 'text']\n",
    "\n",
    "    df = pd.read_csv(path, delimiter='\\t', encoding=\"utf-8-sig\", header=None, names=column_names)\n",
    "    df.columns = df.columns.str.replace('\\ufeff', '')\n",
    "    df['label'] = df['label'].astype(str).str.replace('\\ufeff', '')\n",
    "    df['label'] = df['label'].astype(int)\n",
    "    \n",
    "    return df\n",
    "\n"
   ]
  },
  {
   "cell_type": "code",
   "execution_count": 4,
   "id": "a1cacf3f",
   "metadata": {
    "ExecuteTime": {
     "end_time": "2025-10-31T11:25:10.448311Z",
     "start_time": "2025-10-31T11:25:10.231097Z"
    }
   },
   "outputs": [],
   "source": [
    "## read data windows\n",
    "#data_train_val = read_Data(r\".\\data\\training_data_lowercase.csv\")           # used for train and val data\n",
    "#data_test = read_Data(r\".\\data\\testing_data_lowercase_nolabels.csv\")        # data for the predictions\n",
    "\n",
    "## read data Mac\n",
    "data_train_val = read_Data(\"data/training_data_lowercase.csv\")           # used for train and val data\n",
    "data_test = read_Data(\"data/testing_data_lowercase_nolabels.csv\")        # data for the predictions\n",
    "\n",
    "\n",
    "## split data_train into train and val data\n",
    "data_train, data_val = train_test_split(data_train_val, test_size=0.08, random_state=42, stratify=data_train_val['label'])\n"
   ]
  },
  {
   "cell_type": "code",
   "execution_count": 5,
   "id": "a8aa1623a063d39e",
   "metadata": {},
   "outputs": [
    {
     "name": "stdout",
     "output_type": "stream",
     "text": [
      "Shape train data:\n",
      " (34152, 2)\n",
      "Shape test data:\n",
      " (9984, 2)\n"
     ]
    }
   ],
   "source": [
    "## preview data\n",
    "#print(data_train.head, \"\\n\")\n",
    "#print(data_test.head, \"\\n\")\n",
    "print(\"Shape train data:\\n\", data_train_val.shape)\n",
    "print(\"Shape test data:\\n\", data_test.shape)\n"
   ]
  },
  {
   "cell_type": "markdown",
   "id": "7e5044817001196e",
   "metadata": {},
   "source": [
    "## Pre-processing data"
   ]
  },
  {
   "cell_type": "markdown",
   "id": "f50fcf737f5439ca",
   "metadata": {},
   "source": [
    "Setup with advanced data cleaning"
   ]
  },
  {
   "cell_type": "code",
   "execution_count": 6,
   "id": "9317fe85",
   "metadata": {
    "ExecuteTime": {
     "end_time": "2025-10-31T11:25:15.726189Z",
     "start_time": "2025-10-31T11:25:12.568659Z"
    }
   },
   "outputs": [
    {
     "name": "stdout",
     "output_type": "stream",
     "text": [
      "Cleand text train: \n",
      " <bound method NDFrame.head of 6602     [fox, host, throws, hissy, fit, cant, call, pr...\n",
      "930      [trump, unpopular, crowds, bussed, cheer, pola...\n",
      "29744    [congratulations, eu, moves, brexit, phase, tw...\n",
      "24734    [trumps, national, security, adviser, vows, ta...\n",
      "15772    [republican, turns, tables, fbi, deputy, direc...\n",
      "                               ...                        \n",
      "27469    [us, pledges, strong, response, event, another...\n",
      "27793    [republican, presidential, candidate, cruz, ra...\n",
      "883                                         [like, father]\n",
      "25547    [congress, passes, funding, bill, averting, go...\n",
      "3939     [hilariously, amazing, video, weve, waiting, e...\n",
      "Name: cleaned_text, Length: 31419, dtype: object> \n",
      "\n",
      "Cleand text test: \n",
      " <bound method NDFrame.head of 0       [copycat, muslim, terrorist, arrested, assault...\n",
      "1       [wow, chicago, protester, caught, camera, admi...\n",
      "2       [germanys, fdp, look, fill, schaeubles, big, s...\n",
      "3       [mi, school, sends, welcome, back, packet, war...\n",
      "4       [un, seeks, massive, aid, boost, amid, rohingy...\n",
      "                              ...                        \n",
      "9979    [boom, fox, news, leftist, chris, wallace, att...\n",
      "9980    [list, democrat, hypocrites, voted, filibuster...\n",
      "9981    [new, fires, ravage, rohingya, villages, north...\n",
      "9982    [meals, wheels, shuts, lyin, lefties, truth, m...\n",
      "9983    [brilliant, tucker, carlson, ayaan, hirsi, ali...\n",
      "Name: cleaned_text, Length: 9984, dtype: object> \n",
      "\n",
      "lemmatized_text train: \n",
      " <bound method NDFrame.head of 6602     fox host throw hissy fit cant call president o...\n",
      "930        trump unpopular crowd bussed cheer poland visit\n",
      "29744    congratulation eu move brexit phase two warns ...\n",
      "24734    trump national security adviser vow tackle nor...\n",
      "15772    republican turn table fbi deputy director hot ...\n",
      "                               ...                        \n",
      "27469    u pledge strong response event another north k...\n",
      "27793    republican presidential candidate cruz radical...\n",
      "883                                            like father\n",
      "25547    congress pass funding bill averting government...\n",
      "3939     hilariously amazing video weve waiting electio...\n",
      "Name: lemmatized_text, Length: 31419, dtype: object> \n",
      "\n",
      "lemmatized_text test: \n",
      " <bound method NDFrame.head of 0        copycat muslim terrorist arrested assault weapon\n",
      "1       wow chicago protester caught camera admits vio...\n",
      "2               germany fdp look fill schaeubles big shoe\n",
      "3       mi school sends welcome back packet warning ki...\n",
      "4       un seek massive aid boost amid rohingya emerge...\n",
      "                              ...                        \n",
      "9979    boom fox news leftist chris wallace attempt tr...\n",
      "9980    list democrat hypocrite voted filibuster gw bu...\n",
      "9981    new fire ravage rohingya village northwest mya...\n",
      "9982    meal wheel shuts lyin lefty truth moveonorgs f...\n",
      "9983    brilliant tucker carlson ayaan hirsi ali discu...\n",
      "Name: lemmatized_text, Length: 9984, dtype: object> \n",
      "\n"
     ]
    }
   ],
   "source": [
    "# Preprocessing steps\n",
    "\n",
    "# clean data\n",
    "data_train['cleaned_text'] = data_train['text'].apply(clean_text)\n",
    "data_val['cleaned_text'] = data_val['text'].apply(clean_text)\n",
    "data_test['cleaned_text'] = data_test['text'].apply(clean_text)\n",
    "\n",
    "print(\"Cleand text train: \\n\", data_train[\"cleaned_text\"].head, \"\\n\")\n",
    "print(\"Cleand text test: \\n\", data_test[\"cleaned_text\"].head, \"\\n\")\n",
    "\n",
    "\n",
    "## lemmatize data\n",
    "data_train['lemmatized_text'] = data_train['cleaned_text'].apply(lemmatize_text)\n",
    "data_val['lemmatized_text'] = data_val['cleaned_text'].apply(lemmatize_text)\n",
    "data_test['lemmatized_text'] = data_test['cleaned_text'].apply(lemmatize_text)\n",
    "\n",
    "print(\"lemmatized_text train: \\n\", data_train['lemmatized_text'].head, \"\\n\")\n",
    "print(\"lemmatized_text test: \\n\", data_test['lemmatized_text'].head, \"\\n\")\n",
    "\n",
    "# calc tf-idf matrix on lemmatized data\n",
    "vectorizer = TfidfVectorizer(ngram_range=(1,2))\n",
    "\n",
    "tfidf_matrix_train = vectorizer.fit_transform(data_train['lemmatized_text'])\n",
    "tfidf_matrix_val = vectorizer.transform(data_val['lemmatized_text'])\n",
    "tfidf_matrix_test = vectorizer.transform(data_test['lemmatized_text'])\n"
   ]
  },
  {
   "cell_type": "markdown",
   "id": "d84cbb745f6ba68b",
   "metadata": {},
   "source": [
    "**TF-IDF only**\n",
    "\n",
    "With and without stop-words function"
   ]
  },
  {
   "cell_type": "markdown",
   "id": "21dc59f7c3743c6a",
   "metadata": {},
   "source": [
    "Pre-processing setup 2: TF-IDF Vectorizer (without stopwords argument)"
   ]
  },
  {
   "cell_type": "code",
   "execution_count": 7,
   "id": "3761054c17a3691f",
   "metadata": {
    "ExecuteTime": {
     "end_time": "2025-10-31T11:25:25.820624Z",
     "start_time": "2025-10-31T11:25:24.671103Z"
    }
   },
   "outputs": [],
   "source": [
    "# calc tf-idf matrix with uncleaned data\n",
    "vectorizer2 = TfidfVectorizer(ngram_range=(1, 3))\n",
    "X_train_tfidf = vectorizer2.fit_transform(data_train['text'])\n",
    "X_val_tfidf = vectorizer2.transform(data_val['text'])\n",
    "X_test_tfidf = vectorizer2.transform(data_test['text'])\n"
   ]
  },
  {
   "cell_type": "markdown",
   "id": "594dcfc9749b418",
   "metadata": {},
   "source": [
    "Pre-processing setup 3: TF-IDF Vectorizer (without stopwords argument)"
   ]
  },
  {
   "cell_type": "code",
   "execution_count": 8,
   "id": "c9ad12fa21dc722b",
   "metadata": {},
   "outputs": [],
   "source": [
    "\n",
    "# calc tf-idf matrix with uncleaned data, tf-idf removing stopwords\n",
    "vectorizer3 = TfidfVectorizer(stop_words=\"english\", ngram_range=(1, 3))\n",
    "X_train_tfidf3 = vectorizer3.fit_transform(data_train['text'])\n",
    "X_val_tfidf3 = vectorizer3.transform(data_val['text'])\n",
    "X_test_tfidf3 = vectorizer3.transform(data_test['text'])"
   ]
  },
  {
   "cell_type": "markdown",
   "id": "a422c921",
   "metadata": {},
   "source": [
    "Pre-processing setup 4: Embeddings"
   ]
  },
  {
   "cell_type": "code",
   "execution_count": 9,
   "id": "0e8c280c",
   "metadata": {},
   "outputs": [
    {
     "name": "stderr",
     "output_type": "stream",
     "text": [
      "d:\\ownCloud\\Dokumente\\Ironhack\\.venv\\Lib\\site-packages\\huggingface_hub\\file_download.py:143: UserWarning: `huggingface_hub` cache-system uses symlinks by default to efficiently store duplicated files but your machine does not support them in C:\\Users\\Georg\\.cache\\huggingface\\hub\\models--sentence-transformers--all-MiniLM-L6-v2. Caching files will still work but in a degraded version that might require more space on your disk. This warning can be disabled by setting the `HF_HUB_DISABLE_SYMLINKS_WARNING` environment variable. For more details, see https://huggingface.co/docs/huggingface_hub/how-to-cache#limitations.\n",
      "To support symlinks on Windows, you either need to activate Developer Mode or to run Python as an administrator. In order to activate developer mode, see this article: https://docs.microsoft.com/en-us/windows/apps/get-started/enable-your-device-for-development\n",
      "  warnings.warn(message)\n",
      "Xet Storage is enabled for this repo, but the 'hf_xet' package is not installed. Falling back to regular HTTP download. For better performance, install the package with: `pip install huggingface_hub[hf_xet]` or `pip install hf_xet`\n",
      "Batches: 100%|██████████| 982/982 [00:53<00:00, 18.42it/s]\n",
      "Batches: 100%|██████████| 86/86 [00:04<00:00, 17.51it/s]\n",
      "Batches: 100%|██████████| 312/312 [00:14<00:00, 20.87it/s]\n"
     ]
    }
   ],
   "source": [
    "# Load pretrained embedding model\n",
    "embedder = SentenceTransformer(\"all-MiniLM-L6-v2\")\n",
    "\n",
    "# Convert text to embeddings\n",
    "X_train_emb = embedder.encode(data_train['text'].tolist(), show_progress_bar=True)\n",
    "X_val_emb = embedder.encode(data_val['text'].tolist(), show_progress_bar=True)\n",
    "X_test_emb = embedder.encode(data_test['text'].tolist(), show_progress_bar=True)"
   ]
  },
  {
   "cell_type": "markdown",
   "id": "41b70313b6fdb1e",
   "metadata": {},
   "source": [
    "## Applying and evaluating models"
   ]
  },
  {
   "cell_type": "markdown",
   "id": "b43ba8b6c93a60ca",
   "metadata": {},
   "source": [
    "### Naive Bayes Model"
   ]
  },
  {
   "cell_type": "code",
   "execution_count": null,
   "id": "4cd044eb",
   "metadata": {
    "ExecuteTime": {
     "end_time": "2025-10-31T09:41:36.171890Z",
     "start_time": "2025-10-31T09:41:35.962057Z"
    }
   },
   "outputs": [],
   "source": [
    "# Preprocessing setup 1: calc tf-idf on lemmatized data\n",
    "model_nb1 = model_naives_bayes(tfidf_matrix_train, data_train['label'], tfidf_matrix_val, data_val['label'])\n"
   ]
  },
  {
   "cell_type": "code",
   "execution_count": 11,
   "id": "219d6c9042444fa7",
   "metadata": {
    "ExecuteTime": {
     "end_time": "2025-10-31T09:41:42.003521Z",
     "start_time": "2025-10-31T09:41:41.626Z"
    }
   },
   "outputs": [
    {
     "name": "stdout",
     "output_type": "stream",
     "text": [
      "Train Accuracy:1.00\n",
      "\n",
      "Validation Accuracy: 0.95\n",
      "\n",
      "classification_report:\n",
      "               precision    recall  f1-score   support\n",
      "\n",
      "           0     0.9383    0.9623    0.9501      1406\n",
      "           1     0.9589    0.9329    0.9458      1327\n",
      "\n",
      "    accuracy                         0.9480      2733\n",
      "   macro avg     0.9486    0.9476    0.9480      2733\n",
      "weighted avg     0.9483    0.9480    0.9480      2733\n",
      "\n"
     ]
    }
   ],
   "source": [
    "# Preprocessing setup 2: tf-idf only\n",
    "model_nb2 = model_naives_bayes(X_train_tfidf, data_train['label'], X_val_tfidf, data_val['label'])\n"
   ]
  },
  {
   "cell_type": "code",
   "execution_count": null,
   "id": "1f5d143b4ed1ed1b",
   "metadata": {
    "ExecuteTime": {
     "end_time": "2025-10-31T09:41:45.347925Z",
     "start_time": "2025-10-31T09:41:45.055587Z"
    }
   },
   "outputs": [],
   "source": [
    "# Preprocessing setup 3: tf-idf removing stopwords\n",
    "model_nb3 = model_naives_bayes(X_train_tfidf3, data_train['label'], X_val_tfidf3, data_val['label'])\n"
   ]
  },
  {
   "cell_type": "markdown",
   "id": "25ed7078ff3ee747",
   "metadata": {},
   "source": [
    "### XGBoost"
   ]
  },
  {
   "cell_type": "code",
   "execution_count": null,
   "id": "f9598bda",
   "metadata": {
    "ExecuteTime": {
     "end_time": "2025-10-31T09:42:58.207328Z",
     "start_time": "2025-10-31T09:42:12.075230Z"
    }
   },
   "outputs": [],
   "source": [
    "# XGBoost Setup 1\n",
    "model_xgb1 = model_xgboost(tfidf_matrix_train, data_train['label'], tfidf_matrix_val, data_val['label'])"
   ]
  },
  {
   "cell_type": "code",
   "execution_count": null,
   "id": "bdea9b81afa2fb5d",
   "metadata": {
    "ExecuteTime": {
     "end_time": "2025-10-31T09:44:35.929777Z",
     "start_time": "2025-10-31T09:42:58.214144Z"
    }
   },
   "outputs": [],
   "source": [
    "# XGBoost Setup 2\n",
    "model_xgb2 = model_xgboost(X_train_tfidf, data_train['label'], X_val_tfidf, data_val['label'])"
   ]
  },
  {
   "cell_type": "code",
   "execution_count": null,
   "id": "cc89239995790fe5",
   "metadata": {
    "ExecuteTime": {
     "end_time": "2025-10-31T09:45:54.735141Z",
     "start_time": "2025-10-31T09:44:35.957325Z"
    }
   },
   "outputs": [],
   "source": [
    "# XGBoost Setup 3\n",
    "model_xgb3 = model_xgboost(X_train_tfidf3, data_train['label'], X_val_tfidf3, data_val['label'])"
   ]
  },
  {
   "cell_type": "markdown",
   "id": "75fb345d81687515",
   "metadata": {},
   "source": [
    "### Random Forest"
   ]
  },
  {
   "cell_type": "code",
   "execution_count": null,
   "id": "b23ef3f15eb1c81d",
   "metadata": {
    "ExecuteTime": {
     "end_time": "2025-10-31T09:46:26.033482Z",
     "start_time": "2025-10-31T09:45:54.767270Z"
    }
   },
   "outputs": [],
   "source": [
    "# Random Forest setup 1\n",
    "model_rf1 = model_rf_train(tfidf_matrix_train, tfidf_matrix_val, data_train['label'], data_val['label'])"
   ]
  },
  {
   "cell_type": "code",
   "execution_count": null,
   "id": "ca7ac01df85909fa",
   "metadata": {
    "ExecuteTime": {
     "end_time": "2025-10-31T09:47:12.858120Z",
     "start_time": "2025-10-31T09:46:26.063997Z"
    }
   },
   "outputs": [],
   "source": [
    "# Random Forest setup 2\n",
    "model_rf2 = model_rf_train(X_train_tfidf, X_val_tfidf, data_train['label'], data_val['label'])"
   ]
  },
  {
   "cell_type": "code",
   "execution_count": null,
   "id": "49e14d6a9c1cc376",
   "metadata": {
    "ExecuteTime": {
     "end_time": "2025-10-31T09:48:03.717014Z",
     "start_time": "2025-10-31T09:47:12.870557Z"
    }
   },
   "outputs": [],
   "source": [
    "# Random Forest setup 2\n",
    "model_rf3 = model_rf_train(X_train_tfidf3, X_val_tfidf3, data_train['label'], data_val['label'])"
   ]
  },
  {
   "cell_type": "markdown",
   "id": "b654334cd2c184ca",
   "metadata": {},
   "source": [
    "### Logistic Regression"
   ]
  },
  {
   "cell_type": "code",
   "execution_count": null,
   "id": "3d03646ca8316264",
   "metadata": {
    "ExecuteTime": {
     "end_time": "2025-10-31T09:48:03.852461Z",
     "start_time": "2025-10-31T09:48:03.731158Z"
    }
   },
   "outputs": [],
   "source": [
    "#Logistic Regression setup1\n",
    "model_lr1 = model_logistic_regression(tfidf_matrix_train, data_train['label'], tfidf_matrix_val, data_val['label'])"
   ]
  },
  {
   "cell_type": "code",
   "execution_count": null,
   "id": "3d4db638a9b19be2",
   "metadata": {
    "ExecuteTime": {
     "end_time": "2025-10-31T09:48:04.316170Z",
     "start_time": "2025-10-31T09:48:03.862486Z"
    }
   },
   "outputs": [],
   "source": [
    "#Logistic Regression setup2\n",
    "model_lr2 = model_logistic_regression(X_train_tfidf, data_train['label'], X_val_tfidf, data_val['label'])"
   ]
  },
  {
   "cell_type": "code",
   "execution_count": null,
   "id": "20f111e90af74d30",
   "metadata": {
    "ExecuteTime": {
     "end_time": "2025-10-31T09:48:04.527210Z",
     "start_time": "2025-10-31T09:48:04.325562Z"
    }
   },
   "outputs": [],
   "source": [
    "#Logistic Regression setup3\n",
    "model_lr3 = model_logistic_regression(X_train_tfidf3, data_train['label'], X_val_tfidf3, data_val['label'])"
   ]
  },
  {
   "cell_type": "code",
   "execution_count": null,
   "id": "ec251c76fdff9fc4",
   "metadata": {
    "ExecuteTime": {
     "end_time": "2025-10-31T11:24:39.236268Z",
     "start_time": "2025-10-31T11:24:38.906707Z"
    }
   },
   "outputs": [],
   "source": [
    "# Preprocessing setup 4: Embeddings\n",
    "model_lr4 = model_logistic_regression(X_train_emb, data_train['label'], X_val_emb, data_val['label'])"
   ]
  },
  {
   "cell_type": "markdown",
   "id": "b4aecc62ae18e426",
   "metadata": {},
   "source": [
    "### Simple Feedforward Neural Network"
   ]
  },
  {
   "cell_type": "code",
   "execution_count": null,
   "id": "9908ae86e5f24549",
   "metadata": {
    "ExecuteTime": {
     "end_time": "2025-10-31T10:16:56.504846Z",
     "start_time": "2025-10-31T10:02:26.181571Z"
    }
   },
   "outputs": [],
   "source": [
    "# Simple Feedforward NN with preprocessing setup2\n",
    "model_sfnn2 = model_sfnn_train(X_train_tfidf, data_train['label'], X_val_tfidf, data_val['label'])"
   ]
  },
  {
   "cell_type": "code",
   "execution_count": null,
   "id": "d860471b6fea2b32",
   "metadata": {},
   "outputs": [],
   "source": [
    "# Simple Feedforward NN with preprocessing setup3\n",
    "model_sfnn3 = model_sfnn_train(X_train_tfidf3, data_train['label'], X_val_tfidf3, data_val['label'])"
   ]
  },
  {
   "cell_type": "code",
   "execution_count": 25,
   "id": "21c7a2297cced1e0",
   "metadata": {},
   "outputs": [
    {
     "name": "stdout",
     "output_type": "stream",
     "text": [
      "✅ Predictions saved to: .\\data\\testing_data_lowercase_labels.csv\n"
     ]
    }
   ],
   "source": [
    "## make predictions on test data\n",
    "filepath = r\".\\data\\testing_data_lowercase_labels.csv\"\n",
    "\n",
    "#predict_values(model_rf, tfidf_matrix_test, data_test, filepath)\n",
    "predict_values(model_nb2, X_test_tfidf, data_test, filepath)\n",
    "\n",
    "\n",
    "#  model_nb2 = model_naives_bayes(X_train_tfidf, data_train['label'], X_val_tfidf, data_val['label'])"
   ]
  },
  {
   "cell_type": "code",
   "execution_count": null,
   "id": "6c318d2dc6bc50c8",
   "metadata": {},
   "outputs": [],
   "source": []
  }
 ],
 "metadata": {
  "kernelspec": {
   "display_name": ".venv",
   "language": "python",
   "name": "python3"
  },
  "language_info": {
   "codemirror_mode": {
    "name": "ipython",
    "version": 3
   },
   "file_extension": ".py",
   "mimetype": "text/x-python",
   "name": "python",
   "nbconvert_exporter": "python",
   "pygments_lexer": "ipython3",
   "version": "3.11.0"
  }
 },
 "nbformat": 4,
 "nbformat_minor": 5
}
