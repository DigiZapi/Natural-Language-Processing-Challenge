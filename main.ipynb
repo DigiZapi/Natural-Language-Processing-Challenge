{
 "cells": [
  {
   "cell_type": "markdown",
   "id": "1be66f97",
   "metadata": {},
   "source": [
    "Import Libs"
   ]
  },
  {
   "cell_type": "code",
   "execution_count": 1,
   "id": "07c0ede9",
   "metadata": {},
   "outputs": [],
   "source": [
    "import pandas as pd\n",
    "\n",
    "# own packages\n",
    "from preprocess_data import clean_text\n",
    "from preprocess_data import lemmatize_text\n",
    "from model_randomF import model_rf_train\n",
    "from model_MultinomialNB import model_mnb_train"
   ]
  },
  {
   "cell_type": "code",
   "execution_count": null,
   "id": "750629ad",
   "metadata": {},
   "outputs": [],
   "source": []
  },
  {
   "cell_type": "code",
   "execution_count": 2,
   "id": "cecb90c6",
   "metadata": {},
   "outputs": [],
   "source": [
    "# get csv data\n",
    "def read_Data(path):\n",
    "\n",
    "    # Define column names\n",
    "    column_names = ['label', 'text']\n",
    "    return pd.read_csv(path, delimiter='\\t', encoding='latin-1', header=None, names=column_names)"
   ]
  },
  {
   "cell_type": "code",
   "execution_count": 3,
   "id": "9317fe85",
   "metadata": {},
   "outputs": [
    {
     "name": "stdout",
     "output_type": "stream",
     "text": [
      "Shape train data:\n",
      " (34152, 2)\n",
      "Shape test data:\n",
      " (9984, 2)\n",
      "Cleand text train: \n",
      " <bound method NDFrame.head of 0        [donald, trump, sends, embarrassing, new, year...\n",
      "1        [drunk, bragging, trump, staffer, started, rus...\n",
      "2        [sheriff, david, clarke, becomes, internet, jo...\n",
      "3        [trump, obsessed, even, obamas, name, coded, w...\n",
      "4        [pope, francis, called, donald, trump, christm...\n",
      "                               ...                        \n",
      "34147    [tears, rain, thais, gather, late, kings, fune...\n",
      "34148    [pyongyang, university, needs, nonus, teachers...\n",
      "34149    [philippine, president, duterte, visit, japan,...\n",
      "34150    [japans, abe, may, election, many, dont, want,...\n",
      "34151    [demoralized, divided, inside, catalonias, pol...\n",
      "Name: cleaned_text, Length: 34152, dtype: object> \n",
      "\n",
      "Cleand text test: \n",
      " <bound method NDFrame.head of 0       [copycat, muslim, terrorist, arrested, assault...\n",
      "1       [wow, chicago, protester, caught, camera, admi...\n",
      "2       [germanys, fdp, look, fill, schaeubles, big, s...\n",
      "3       [mi, school, sends, welcome, back, packet, war...\n",
      "4       [un, seeks, massive, aid, boost, amid, rohingy...\n",
      "                              ...                        \n",
      "9979    [boom, fox, news, leftist, chris, wallace, att...\n",
      "9980    [list, democrat, hypocrites, voted, filibuster...\n",
      "9981    [new, fires, ravage, rohingya, villages, north...\n",
      "9982    [meals, wheels, shuts, lyin, lefties, truth, m...\n",
      "9983    [brilliant, tucker, carlson, ayaan, hirsi, ali...\n",
      "Name: cleaned_text, Length: 9984, dtype: object> \n",
      "\n",
      "lemmatized_text train: \n",
      " <bound method NDFrame.head of 0        [donald, trump, sends, embarrassing, new, year...\n",
      "1        [drunk, bragging, trump, staffer, started, rus...\n",
      "2        [sheriff, david, clarke, becomes, internet, jo...\n",
      "3        [trump, obsessed, even, obamas, name, coded, w...\n",
      "4        [pope, francis, called, donald, trump, christm...\n",
      "                               ...                        \n",
      "34147      [tear, rain, thai, gather, late, king, funeral]\n",
      "34148    [pyongyang, university, need, nonus, teacher, ...\n",
      "34149    [philippine, president, duterte, visit, japan,...\n",
      "34150    [japan, abe, may, election, many, dont, want, pm]\n",
      "34151    [demoralized, divided, inside, catalonia, poli...\n",
      "Name: lemmatized_text, Length: 34152, dtype: object> \n",
      "\n",
      "lemmatized_text test: \n",
      " <bound method NDFrame.head of 0       [copycat, muslim, terrorist, arrested, assault...\n",
      "1       [wow, chicago, protester, caught, camera, admi...\n",
      "2       [germany, fdp, look, fill, schaeubles, big, shoe]\n",
      "3       [mi, school, sends, welcome, back, packet, war...\n",
      "4       [un, seek, massive, aid, boost, amid, rohingya...\n",
      "                              ...                        \n",
      "9979    [boom, fox, news, leftist, chris, wallace, att...\n",
      "9980    [list, democrat, hypocrite, voted, filibuster,...\n",
      "9981    [new, fire, ravage, rohingya, village, northwe...\n",
      "9982    [meal, wheel, shuts, lyin, lefty, truth, moveo...\n",
      "9983    [brilliant, tucker, carlson, ayaan, hirsi, ali...\n",
      "Name: lemmatized_text, Length: 9984, dtype: object> \n",
      "\n"
     ]
    }
   ],
   "source": [
    "## read data\n",
    "data_train = read_Data(r\".\\data\\training_data_lowercase.csv\")\n",
    "data_test = read_Data(r\".\\data\\testing_data_lowercase_nolabels.csv\")    \n",
    "\n",
    "## preview data\n",
    "#print(data_train.head, \"\\n\")\n",
    "#print(data_test.head, \"\\n\")\n",
    "print(\"Shape train data:\\n\", data_train.shape)\n",
    "print(\"Shape test data:\\n\", data_test.shape)\n",
    "\n",
    "# clean data\n",
    "data_train['cleaned_text'] = data_train['text'].apply(clean_text)\n",
    "data_test['cleaned_text'] = data_test['text'].apply(clean_text)\n",
    "\n",
    "print(\"Cleand text train: \\n\", data_train[\"cleaned_text\"].head, \"\\n\")\n",
    "print(\"Cleand text test: \\n\", data_test[\"cleaned_text\"].head, \"\\n\")\n",
    "\n",
    "\n",
    "## lemmatize data\n",
    "data_train['lemmatized_text'] = data_train['cleaned_text'].apply(lemmatize_text)\n",
    "data_test['lemmatized_text'] = data_test['cleaned_text'].apply(lemmatize_text)\n",
    "\n",
    "print(\"lemmatized_text train: \\n\", data_train['lemmatized_text'].head, \"\\n\")\n",
    "print(\"lemmatized_text test: \\n\", data_test['lemmatized_text'].head, \"\\n\")\n",
    "\n",
    "\n"
   ]
  },
  {
   "cell_type": "code",
   "execution_count": null,
   "id": "4cd044eb",
   "metadata": {},
   "outputs": [],
   "source": []
  }
 ],
 "metadata": {
  "kernelspec": {
   "display_name": ".venv",
   "language": "python",
   "name": "python3"
  },
  "language_info": {
   "codemirror_mode": {
    "name": "ipython",
    "version": 3
   },
   "file_extension": ".py",
   "mimetype": "text/x-python",
   "name": "python",
   "nbconvert_exporter": "python",
   "pygments_lexer": "ipython3",
   "version": "3.11.0"
  }
 },
 "nbformat": 4,
 "nbformat_minor": 5
}
